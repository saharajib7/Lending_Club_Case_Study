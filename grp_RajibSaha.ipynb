{
 "cells": [
  {
   "cell_type": "markdown",
   "id": "e9351630",
   "metadata": {},
   "source": [
    "# Lending Club Case Study"
   ]
  },
  {
   "cell_type": "code",
   "execution_count": 23,
   "id": "cd76a82b",
   "metadata": {},
   "outputs": [],
   "source": [
    "#importing all the libraries\n",
    "import numpy as np\n",
    "import pandas as pd\n",
    "import seaborn as sns\n",
    "import warnings\n",
    "warnings.filterwarnings(\"ignore\")\n",
    "import matplotlib.pyplot as plt"
   ]
  },
  {
   "cell_type": "markdown",
   "id": "17900b18",
   "metadata": {},
   "source": [
    "### 1.Data Loading and Data Understanding"
   ]
  },
  {
   "cell_type": "code",
   "execution_count": 144,
   "id": "f5c2d5d8",
   "metadata": {
    "scrolled": false
   },
   "outputs": [],
   "source": [
    "#read the csv file\n",
    "lending_club_df = pd.read_csv(\"C:\\\\Users\\\\DELL\\\\Desktop\\\\LendingClubCaseStudy\\\\loan.csv\")"
   ]
  },
  {
   "cell_type": "code",
   "execution_count": 145,
   "id": "d5cf6395",
   "metadata": {
    "scrolled": true
   },
   "outputs": [
    {
     "data": {
      "text/html": [
       "<div>\n",
       "<style scoped>\n",
       "    .dataframe tbody tr th:only-of-type {\n",
       "        vertical-align: middle;\n",
       "    }\n",
       "\n",
       "    .dataframe tbody tr th {\n",
       "        vertical-align: top;\n",
       "    }\n",
       "\n",
       "    .dataframe thead th {\n",
       "        text-align: right;\n",
       "    }\n",
       "</style>\n",
       "<table border=\"1\" class=\"dataframe\">\n",
       "  <thead>\n",
       "    <tr style=\"text-align: right;\">\n",
       "      <th></th>\n",
       "      <th>id</th>\n",
       "      <th>member_id</th>\n",
       "      <th>loan_amnt</th>\n",
       "      <th>funded_amnt</th>\n",
       "      <th>funded_amnt_inv</th>\n",
       "      <th>term</th>\n",
       "      <th>int_rate</th>\n",
       "      <th>installment</th>\n",
       "      <th>grade</th>\n",
       "      <th>sub_grade</th>\n",
       "      <th>...</th>\n",
       "      <th>num_tl_90g_dpd_24m</th>\n",
       "      <th>num_tl_op_past_12m</th>\n",
       "      <th>pct_tl_nvr_dlq</th>\n",
       "      <th>percent_bc_gt_75</th>\n",
       "      <th>pub_rec_bankruptcies</th>\n",
       "      <th>tax_liens</th>\n",
       "      <th>tot_hi_cred_lim</th>\n",
       "      <th>total_bal_ex_mort</th>\n",
       "      <th>total_bc_limit</th>\n",
       "      <th>total_il_high_credit_limit</th>\n",
       "    </tr>\n",
       "  </thead>\n",
       "  <tbody>\n",
       "    <tr>\n",
       "      <th>0</th>\n",
       "      <td>1077501</td>\n",
       "      <td>1296599</td>\n",
       "      <td>5000</td>\n",
       "      <td>5000</td>\n",
       "      <td>4975.0</td>\n",
       "      <td>36 months</td>\n",
       "      <td>10.65%</td>\n",
       "      <td>162.87</td>\n",
       "      <td>B</td>\n",
       "      <td>B2</td>\n",
       "      <td>...</td>\n",
       "      <td>NaN</td>\n",
       "      <td>NaN</td>\n",
       "      <td>NaN</td>\n",
       "      <td>NaN</td>\n",
       "      <td>0.0</td>\n",
       "      <td>0.0</td>\n",
       "      <td>NaN</td>\n",
       "      <td>NaN</td>\n",
       "      <td>NaN</td>\n",
       "      <td>NaN</td>\n",
       "    </tr>\n",
       "    <tr>\n",
       "      <th>1</th>\n",
       "      <td>1077430</td>\n",
       "      <td>1314167</td>\n",
       "      <td>2500</td>\n",
       "      <td>2500</td>\n",
       "      <td>2500.0</td>\n",
       "      <td>60 months</td>\n",
       "      <td>15.27%</td>\n",
       "      <td>59.83</td>\n",
       "      <td>C</td>\n",
       "      <td>C4</td>\n",
       "      <td>...</td>\n",
       "      <td>NaN</td>\n",
       "      <td>NaN</td>\n",
       "      <td>NaN</td>\n",
       "      <td>NaN</td>\n",
       "      <td>0.0</td>\n",
       "      <td>0.0</td>\n",
       "      <td>NaN</td>\n",
       "      <td>NaN</td>\n",
       "      <td>NaN</td>\n",
       "      <td>NaN</td>\n",
       "    </tr>\n",
       "    <tr>\n",
       "      <th>2</th>\n",
       "      <td>1077175</td>\n",
       "      <td>1313524</td>\n",
       "      <td>2400</td>\n",
       "      <td>2400</td>\n",
       "      <td>2400.0</td>\n",
       "      <td>36 months</td>\n",
       "      <td>15.96%</td>\n",
       "      <td>84.33</td>\n",
       "      <td>C</td>\n",
       "      <td>C5</td>\n",
       "      <td>...</td>\n",
       "      <td>NaN</td>\n",
       "      <td>NaN</td>\n",
       "      <td>NaN</td>\n",
       "      <td>NaN</td>\n",
       "      <td>0.0</td>\n",
       "      <td>0.0</td>\n",
       "      <td>NaN</td>\n",
       "      <td>NaN</td>\n",
       "      <td>NaN</td>\n",
       "      <td>NaN</td>\n",
       "    </tr>\n",
       "    <tr>\n",
       "      <th>3</th>\n",
       "      <td>1076863</td>\n",
       "      <td>1277178</td>\n",
       "      <td>10000</td>\n",
       "      <td>10000</td>\n",
       "      <td>10000.0</td>\n",
       "      <td>36 months</td>\n",
       "      <td>13.49%</td>\n",
       "      <td>339.31</td>\n",
       "      <td>C</td>\n",
       "      <td>C1</td>\n",
       "      <td>...</td>\n",
       "      <td>NaN</td>\n",
       "      <td>NaN</td>\n",
       "      <td>NaN</td>\n",
       "      <td>NaN</td>\n",
       "      <td>0.0</td>\n",
       "      <td>0.0</td>\n",
       "      <td>NaN</td>\n",
       "      <td>NaN</td>\n",
       "      <td>NaN</td>\n",
       "      <td>NaN</td>\n",
       "    </tr>\n",
       "    <tr>\n",
       "      <th>4</th>\n",
       "      <td>1075358</td>\n",
       "      <td>1311748</td>\n",
       "      <td>3000</td>\n",
       "      <td>3000</td>\n",
       "      <td>3000.0</td>\n",
       "      <td>60 months</td>\n",
       "      <td>12.69%</td>\n",
       "      <td>67.79</td>\n",
       "      <td>B</td>\n",
       "      <td>B5</td>\n",
       "      <td>...</td>\n",
       "      <td>NaN</td>\n",
       "      <td>NaN</td>\n",
       "      <td>NaN</td>\n",
       "      <td>NaN</td>\n",
       "      <td>0.0</td>\n",
       "      <td>0.0</td>\n",
       "      <td>NaN</td>\n",
       "      <td>NaN</td>\n",
       "      <td>NaN</td>\n",
       "      <td>NaN</td>\n",
       "    </tr>\n",
       "  </tbody>\n",
       "</table>\n",
       "<p>5 rows × 111 columns</p>\n",
       "</div>"
      ],
      "text/plain": [
       "        id  member_id  loan_amnt  funded_amnt  funded_amnt_inv        term  \\\n",
       "0  1077501    1296599       5000         5000           4975.0   36 months   \n",
       "1  1077430    1314167       2500         2500           2500.0   60 months   \n",
       "2  1077175    1313524       2400         2400           2400.0   36 months   \n",
       "3  1076863    1277178      10000        10000          10000.0   36 months   \n",
       "4  1075358    1311748       3000         3000           3000.0   60 months   \n",
       "\n",
       "  int_rate  installment grade sub_grade  ... num_tl_90g_dpd_24m  \\\n",
       "0   10.65%       162.87     B        B2  ...                NaN   \n",
       "1   15.27%        59.83     C        C4  ...                NaN   \n",
       "2   15.96%        84.33     C        C5  ...                NaN   \n",
       "3   13.49%       339.31     C        C1  ...                NaN   \n",
       "4   12.69%        67.79     B        B5  ...                NaN   \n",
       "\n",
       "  num_tl_op_past_12m pct_tl_nvr_dlq  percent_bc_gt_75 pub_rec_bankruptcies  \\\n",
       "0                NaN            NaN               NaN                  0.0   \n",
       "1                NaN            NaN               NaN                  0.0   \n",
       "2                NaN            NaN               NaN                  0.0   \n",
       "3                NaN            NaN               NaN                  0.0   \n",
       "4                NaN            NaN               NaN                  0.0   \n",
       "\n",
       "  tax_liens tot_hi_cred_lim total_bal_ex_mort total_bc_limit  \\\n",
       "0       0.0             NaN               NaN            NaN   \n",
       "1       0.0             NaN               NaN            NaN   \n",
       "2       0.0             NaN               NaN            NaN   \n",
       "3       0.0             NaN               NaN            NaN   \n",
       "4       0.0             NaN               NaN            NaN   \n",
       "\n",
       "  total_il_high_credit_limit  \n",
       "0                        NaN  \n",
       "1                        NaN  \n",
       "2                        NaN  \n",
       "3                        NaN  \n",
       "4                        NaN  \n",
       "\n",
       "[5 rows x 111 columns]"
      ]
     },
     "execution_count": 145,
     "metadata": {},
     "output_type": "execute_result"
    }
   ],
   "source": [
    "#printing the first five rows of the data frame\n",
    "lending_club_df.head()"
   ]
  },
  {
   "cell_type": "code",
   "execution_count": 146,
   "id": "82b0a918",
   "metadata": {},
   "outputs": [
    {
     "data": {
      "text/plain": [
       "id                                0\n",
       "member_id                         0\n",
       "loan_amnt                         0\n",
       "funded_amnt                       0\n",
       "funded_amnt_inv                   0\n",
       "                              ...  \n",
       "tax_liens                        39\n",
       "tot_hi_cred_lim               39717\n",
       "total_bal_ex_mort             39717\n",
       "total_bc_limit                39717\n",
       "total_il_high_credit_limit    39717\n",
       "Length: 111, dtype: int64"
      ]
     },
     "execution_count": 146,
     "metadata": {},
     "output_type": "execute_result"
    }
   ],
   "source": [
    "#checking for all the the null values present in each columns\n",
    "lending_club_df.isnull().sum()"
   ]
  },
  {
   "cell_type": "markdown",
   "id": "572562da",
   "metadata": {},
   "source": [
    "### 2. Preprocessing Steps.\n",
    "The CSV file contains many null columns with null values. The null columns can be directly removed"
   ]
  },
  {
   "cell_type": "code",
   "execution_count": 147,
   "id": "20b9632e",
   "metadata": {},
   "outputs": [
    {
     "data": {
      "text/html": [
       "<div>\n",
       "<style scoped>\n",
       "    .dataframe tbody tr th:only-of-type {\n",
       "        vertical-align: middle;\n",
       "    }\n",
       "\n",
       "    .dataframe tbody tr th {\n",
       "        vertical-align: top;\n",
       "    }\n",
       "\n",
       "    .dataframe thead th {\n",
       "        text-align: right;\n",
       "    }\n",
       "</style>\n",
       "<table border=\"1\" class=\"dataframe\">\n",
       "  <thead>\n",
       "    <tr style=\"text-align: right;\">\n",
       "      <th></th>\n",
       "      <th>id</th>\n",
       "      <th>member_id</th>\n",
       "      <th>loan_amnt</th>\n",
       "      <th>funded_amnt</th>\n",
       "      <th>funded_amnt_inv</th>\n",
       "      <th>term</th>\n",
       "      <th>int_rate</th>\n",
       "      <th>installment</th>\n",
       "      <th>grade</th>\n",
       "      <th>sub_grade</th>\n",
       "      <th>...</th>\n",
       "      <th>next_pymnt_d</th>\n",
       "      <th>last_credit_pull_d</th>\n",
       "      <th>collections_12_mths_ex_med</th>\n",
       "      <th>policy_code</th>\n",
       "      <th>application_type</th>\n",
       "      <th>acc_now_delinq</th>\n",
       "      <th>chargeoff_within_12_mths</th>\n",
       "      <th>delinq_amnt</th>\n",
       "      <th>pub_rec_bankruptcies</th>\n",
       "      <th>tax_liens</th>\n",
       "    </tr>\n",
       "  </thead>\n",
       "  <tbody>\n",
       "    <tr>\n",
       "      <th>0</th>\n",
       "      <td>1077501</td>\n",
       "      <td>1296599</td>\n",
       "      <td>5000</td>\n",
       "      <td>5000</td>\n",
       "      <td>4975.0</td>\n",
       "      <td>36 months</td>\n",
       "      <td>10.65%</td>\n",
       "      <td>162.87</td>\n",
       "      <td>B</td>\n",
       "      <td>B2</td>\n",
       "      <td>...</td>\n",
       "      <td>NaN</td>\n",
       "      <td>May-16</td>\n",
       "      <td>0.0</td>\n",
       "      <td>1</td>\n",
       "      <td>INDIVIDUAL</td>\n",
       "      <td>0</td>\n",
       "      <td>0.0</td>\n",
       "      <td>0</td>\n",
       "      <td>0.0</td>\n",
       "      <td>0.0</td>\n",
       "    </tr>\n",
       "    <tr>\n",
       "      <th>1</th>\n",
       "      <td>1077430</td>\n",
       "      <td>1314167</td>\n",
       "      <td>2500</td>\n",
       "      <td>2500</td>\n",
       "      <td>2500.0</td>\n",
       "      <td>60 months</td>\n",
       "      <td>15.27%</td>\n",
       "      <td>59.83</td>\n",
       "      <td>C</td>\n",
       "      <td>C4</td>\n",
       "      <td>...</td>\n",
       "      <td>NaN</td>\n",
       "      <td>Sep-13</td>\n",
       "      <td>0.0</td>\n",
       "      <td>1</td>\n",
       "      <td>INDIVIDUAL</td>\n",
       "      <td>0</td>\n",
       "      <td>0.0</td>\n",
       "      <td>0</td>\n",
       "      <td>0.0</td>\n",
       "      <td>0.0</td>\n",
       "    </tr>\n",
       "    <tr>\n",
       "      <th>2</th>\n",
       "      <td>1077175</td>\n",
       "      <td>1313524</td>\n",
       "      <td>2400</td>\n",
       "      <td>2400</td>\n",
       "      <td>2400.0</td>\n",
       "      <td>36 months</td>\n",
       "      <td>15.96%</td>\n",
       "      <td>84.33</td>\n",
       "      <td>C</td>\n",
       "      <td>C5</td>\n",
       "      <td>...</td>\n",
       "      <td>NaN</td>\n",
       "      <td>May-16</td>\n",
       "      <td>0.0</td>\n",
       "      <td>1</td>\n",
       "      <td>INDIVIDUAL</td>\n",
       "      <td>0</td>\n",
       "      <td>0.0</td>\n",
       "      <td>0</td>\n",
       "      <td>0.0</td>\n",
       "      <td>0.0</td>\n",
       "    </tr>\n",
       "    <tr>\n",
       "      <th>3</th>\n",
       "      <td>1076863</td>\n",
       "      <td>1277178</td>\n",
       "      <td>10000</td>\n",
       "      <td>10000</td>\n",
       "      <td>10000.0</td>\n",
       "      <td>36 months</td>\n",
       "      <td>13.49%</td>\n",
       "      <td>339.31</td>\n",
       "      <td>C</td>\n",
       "      <td>C1</td>\n",
       "      <td>...</td>\n",
       "      <td>NaN</td>\n",
       "      <td>Apr-16</td>\n",
       "      <td>0.0</td>\n",
       "      <td>1</td>\n",
       "      <td>INDIVIDUAL</td>\n",
       "      <td>0</td>\n",
       "      <td>0.0</td>\n",
       "      <td>0</td>\n",
       "      <td>0.0</td>\n",
       "      <td>0.0</td>\n",
       "    </tr>\n",
       "    <tr>\n",
       "      <th>4</th>\n",
       "      <td>1075358</td>\n",
       "      <td>1311748</td>\n",
       "      <td>3000</td>\n",
       "      <td>3000</td>\n",
       "      <td>3000.0</td>\n",
       "      <td>60 months</td>\n",
       "      <td>12.69%</td>\n",
       "      <td>67.79</td>\n",
       "      <td>B</td>\n",
       "      <td>B5</td>\n",
       "      <td>...</td>\n",
       "      <td>Jun-16</td>\n",
       "      <td>May-16</td>\n",
       "      <td>0.0</td>\n",
       "      <td>1</td>\n",
       "      <td>INDIVIDUAL</td>\n",
       "      <td>0</td>\n",
       "      <td>0.0</td>\n",
       "      <td>0</td>\n",
       "      <td>0.0</td>\n",
       "      <td>0.0</td>\n",
       "    </tr>\n",
       "  </tbody>\n",
       "</table>\n",
       "<p>5 rows × 57 columns</p>\n",
       "</div>"
      ],
      "text/plain": [
       "        id  member_id  loan_amnt  funded_amnt  funded_amnt_inv        term  \\\n",
       "0  1077501    1296599       5000         5000           4975.0   36 months   \n",
       "1  1077430    1314167       2500         2500           2500.0   60 months   \n",
       "2  1077175    1313524       2400         2400           2400.0   36 months   \n",
       "3  1076863    1277178      10000        10000          10000.0   36 months   \n",
       "4  1075358    1311748       3000         3000           3000.0   60 months   \n",
       "\n",
       "  int_rate  installment grade sub_grade  ... next_pymnt_d last_credit_pull_d  \\\n",
       "0   10.65%       162.87     B        B2  ...          NaN             May-16   \n",
       "1   15.27%        59.83     C        C4  ...          NaN             Sep-13   \n",
       "2   15.96%        84.33     C        C5  ...          NaN             May-16   \n",
       "3   13.49%       339.31     C        C1  ...          NaN             Apr-16   \n",
       "4   12.69%        67.79     B        B5  ...       Jun-16             May-16   \n",
       "\n",
       "  collections_12_mths_ex_med  policy_code application_type acc_now_delinq  \\\n",
       "0                        0.0            1       INDIVIDUAL              0   \n",
       "1                        0.0            1       INDIVIDUAL              0   \n",
       "2                        0.0            1       INDIVIDUAL              0   \n",
       "3                        0.0            1       INDIVIDUAL              0   \n",
       "4                        0.0            1       INDIVIDUAL              0   \n",
       "\n",
       "  chargeoff_within_12_mths delinq_amnt pub_rec_bankruptcies tax_liens  \n",
       "0                      0.0           0                  0.0       0.0  \n",
       "1                      0.0           0                  0.0       0.0  \n",
       "2                      0.0           0                  0.0       0.0  \n",
       "3                      0.0           0                  0.0       0.0  \n",
       "4                      0.0           0                  0.0       0.0  \n",
       "\n",
       "[5 rows x 57 columns]"
      ]
     },
     "execution_count": 147,
     "metadata": {},
     "output_type": "execute_result"
    }
   ],
   "source": [
    "#droping all the columns with null values.\n",
    "lending_club_df.dropna(axis = 1, how = 'all', inplace = True)\n",
    "lending_club_df.head()"
   ]
  },
  {
   "cell_type": "markdown",
   "id": "fcfc741b",
   "metadata": {},
   "source": [
    "##### The CSV file now contains many columns with single strings which will not be relevant in our case study analysis, so dropping them."
   ]
  },
  {
   "cell_type": "code",
   "execution_count": 148,
   "id": "5b6a97eb",
   "metadata": {},
   "outputs": [
    {
     "data": {
      "text/html": [
       "<div>\n",
       "<style scoped>\n",
       "    .dataframe tbody tr th:only-of-type {\n",
       "        vertical-align: middle;\n",
       "    }\n",
       "\n",
       "    .dataframe tbody tr th {\n",
       "        vertical-align: top;\n",
       "    }\n",
       "\n",
       "    .dataframe thead th {\n",
       "        text-align: right;\n",
       "    }\n",
       "</style>\n",
       "<table border=\"1\" class=\"dataframe\">\n",
       "  <thead>\n",
       "    <tr style=\"text-align: right;\">\n",
       "      <th></th>\n",
       "      <th>id</th>\n",
       "      <th>member_id</th>\n",
       "      <th>loan_amnt</th>\n",
       "      <th>funded_amnt</th>\n",
       "      <th>funded_amnt_inv</th>\n",
       "      <th>term</th>\n",
       "      <th>int_rate</th>\n",
       "      <th>installment</th>\n",
       "      <th>grade</th>\n",
       "      <th>sub_grade</th>\n",
       "      <th>...</th>\n",
       "      <th>total_rec_prncp</th>\n",
       "      <th>total_rec_int</th>\n",
       "      <th>total_rec_late_fee</th>\n",
       "      <th>recoveries</th>\n",
       "      <th>collection_recovery_fee</th>\n",
       "      <th>last_pymnt_d</th>\n",
       "      <th>last_pymnt_amnt</th>\n",
       "      <th>next_pymnt_d</th>\n",
       "      <th>last_credit_pull_d</th>\n",
       "      <th>chargeoff_within_12_mths</th>\n",
       "    </tr>\n",
       "  </thead>\n",
       "  <tbody>\n",
       "    <tr>\n",
       "      <th>0</th>\n",
       "      <td>1077501</td>\n",
       "      <td>1296599</td>\n",
       "      <td>5000</td>\n",
       "      <td>5000</td>\n",
       "      <td>4975.0</td>\n",
       "      <td>36 months</td>\n",
       "      <td>10.65%</td>\n",
       "      <td>162.87</td>\n",
       "      <td>B</td>\n",
       "      <td>B2</td>\n",
       "      <td>...</td>\n",
       "      <td>5000.00</td>\n",
       "      <td>863.16</td>\n",
       "      <td>0.00</td>\n",
       "      <td>0.00</td>\n",
       "      <td>0.00</td>\n",
       "      <td>Jan-15</td>\n",
       "      <td>171.62</td>\n",
       "      <td>NaN</td>\n",
       "      <td>May-16</td>\n",
       "      <td>0.0</td>\n",
       "    </tr>\n",
       "    <tr>\n",
       "      <th>1</th>\n",
       "      <td>1077430</td>\n",
       "      <td>1314167</td>\n",
       "      <td>2500</td>\n",
       "      <td>2500</td>\n",
       "      <td>2500.0</td>\n",
       "      <td>60 months</td>\n",
       "      <td>15.27%</td>\n",
       "      <td>59.83</td>\n",
       "      <td>C</td>\n",
       "      <td>C4</td>\n",
       "      <td>...</td>\n",
       "      <td>456.46</td>\n",
       "      <td>435.17</td>\n",
       "      <td>0.00</td>\n",
       "      <td>117.08</td>\n",
       "      <td>1.11</td>\n",
       "      <td>Apr-13</td>\n",
       "      <td>119.66</td>\n",
       "      <td>NaN</td>\n",
       "      <td>Sep-13</td>\n",
       "      <td>0.0</td>\n",
       "    </tr>\n",
       "    <tr>\n",
       "      <th>2</th>\n",
       "      <td>1077175</td>\n",
       "      <td>1313524</td>\n",
       "      <td>2400</td>\n",
       "      <td>2400</td>\n",
       "      <td>2400.0</td>\n",
       "      <td>36 months</td>\n",
       "      <td>15.96%</td>\n",
       "      <td>84.33</td>\n",
       "      <td>C</td>\n",
       "      <td>C5</td>\n",
       "      <td>...</td>\n",
       "      <td>2400.00</td>\n",
       "      <td>605.67</td>\n",
       "      <td>0.00</td>\n",
       "      <td>0.00</td>\n",
       "      <td>0.00</td>\n",
       "      <td>Jun-14</td>\n",
       "      <td>649.91</td>\n",
       "      <td>NaN</td>\n",
       "      <td>May-16</td>\n",
       "      <td>0.0</td>\n",
       "    </tr>\n",
       "    <tr>\n",
       "      <th>3</th>\n",
       "      <td>1076863</td>\n",
       "      <td>1277178</td>\n",
       "      <td>10000</td>\n",
       "      <td>10000</td>\n",
       "      <td>10000.0</td>\n",
       "      <td>36 months</td>\n",
       "      <td>13.49%</td>\n",
       "      <td>339.31</td>\n",
       "      <td>C</td>\n",
       "      <td>C1</td>\n",
       "      <td>...</td>\n",
       "      <td>10000.00</td>\n",
       "      <td>2214.92</td>\n",
       "      <td>16.97</td>\n",
       "      <td>0.00</td>\n",
       "      <td>0.00</td>\n",
       "      <td>Jan-15</td>\n",
       "      <td>357.48</td>\n",
       "      <td>NaN</td>\n",
       "      <td>Apr-16</td>\n",
       "      <td>0.0</td>\n",
       "    </tr>\n",
       "    <tr>\n",
       "      <th>4</th>\n",
       "      <td>1075358</td>\n",
       "      <td>1311748</td>\n",
       "      <td>3000</td>\n",
       "      <td>3000</td>\n",
       "      <td>3000.0</td>\n",
       "      <td>60 months</td>\n",
       "      <td>12.69%</td>\n",
       "      <td>67.79</td>\n",
       "      <td>B</td>\n",
       "      <td>B5</td>\n",
       "      <td>...</td>\n",
       "      <td>2475.94</td>\n",
       "      <td>1037.39</td>\n",
       "      <td>0.00</td>\n",
       "      <td>0.00</td>\n",
       "      <td>0.00</td>\n",
       "      <td>May-16</td>\n",
       "      <td>67.79</td>\n",
       "      <td>Jun-16</td>\n",
       "      <td>May-16</td>\n",
       "      <td>0.0</td>\n",
       "    </tr>\n",
       "  </tbody>\n",
       "</table>\n",
       "<p>5 rows × 48 columns</p>\n",
       "</div>"
      ],
      "text/plain": [
       "        id  member_id  loan_amnt  funded_amnt  funded_amnt_inv        term  \\\n",
       "0  1077501    1296599       5000         5000           4975.0   36 months   \n",
       "1  1077430    1314167       2500         2500           2500.0   60 months   \n",
       "2  1077175    1313524       2400         2400           2400.0   36 months   \n",
       "3  1076863    1277178      10000        10000          10000.0   36 months   \n",
       "4  1075358    1311748       3000         3000           3000.0   60 months   \n",
       "\n",
       "  int_rate  installment grade sub_grade  ... total_rec_prncp total_rec_int  \\\n",
       "0   10.65%       162.87     B        B2  ...         5000.00        863.16   \n",
       "1   15.27%        59.83     C        C4  ...          456.46        435.17   \n",
       "2   15.96%        84.33     C        C5  ...         2400.00        605.67   \n",
       "3   13.49%       339.31     C        C1  ...        10000.00       2214.92   \n",
       "4   12.69%        67.79     B        B5  ...         2475.94       1037.39   \n",
       "\n",
       "  total_rec_late_fee  recoveries collection_recovery_fee last_pymnt_d  \\\n",
       "0               0.00        0.00                    0.00       Jan-15   \n",
       "1               0.00      117.08                    1.11       Apr-13   \n",
       "2               0.00        0.00                    0.00       Jun-14   \n",
       "3              16.97        0.00                    0.00       Jan-15   \n",
       "4               0.00        0.00                    0.00       May-16   \n",
       "\n",
       "  last_pymnt_amnt next_pymnt_d last_credit_pull_d chargeoff_within_12_mths  \n",
       "0          171.62          NaN             May-16                      0.0  \n",
       "1          119.66          NaN             Sep-13                      0.0  \n",
       "2          649.91          NaN             May-16                      0.0  \n",
       "3          357.48          NaN             Apr-16                      0.0  \n",
       "4           67.79       Jun-16             May-16                      0.0  \n",
       "\n",
       "[5 rows x 48 columns]"
      ]
     },
     "execution_count": 148,
     "metadata": {},
     "output_type": "execute_result"
    }
   ],
   "source": [
    "lending_club_df.drop(['pymnt_plan', \"initial_list_status\",'collections_12_mths_ex_med','policy_code','acc_now_delinq', 'application_type', 'pub_rec_bankruptcies', 'tax_liens', 'delinq_amnt'], axis = 1, inplace = True)\n",
    "lending_club_df.head()"
   ]
  },
  {
   "cell_type": "markdown",
   "id": "09bc5038",
   "metadata": {},
   "source": [
    "##### The columns finally left have date which doesnot correspond to analysis we are performing here:\n",
    " Columns such as \"id\", \"member_id\", \"url\", \"title\", \"emp_title\", \"zip_code\", \"last_credit_pull_d\", \"addr_state\" can be dropped."
   ]
  },
  {
   "cell_type": "code",
   "execution_count": 149,
   "id": "8797ca9a",
   "metadata": {},
   "outputs": [
    {
     "data": {
      "text/plain": [
       "(39717, 41)"
      ]
     },
     "execution_count": 149,
     "metadata": {},
     "output_type": "execute_result"
    }
   ],
   "source": [
    "lending_club_df.drop([\"id\", \"member_id\", \"url\", \"title\", \"emp_title\", \"zip_code\", \"last_credit_pull_d\"], axis = 1, inplace = True)\n",
    "lending_club_df.shape"
   ]
  },
  {
   "cell_type": "markdown",
   "id": "f3b8824a",
   "metadata": {},
   "source": [
    "##### List of post-approval features which are not relevant in our current analysis\n",
    " delinq_2yrs,revol_bal,out_prncp,total_pymnt,total_rec_prncp,total_rec_int,total_rec_late_fee,recoveries,collection_recovery_fee,last_pymnt_d,last_pymnt_amnt,next_pymnt_d,chargeoff_within_12_mths,mths_since_last_delinq,mths_since_last_record"
   ]
  },
  {
   "cell_type": "code",
   "execution_count": 150,
   "id": "cecf783f",
   "metadata": {},
   "outputs": [
    {
     "data": {
      "text/plain": [
       "(39717, 21)"
      ]
     },
     "execution_count": 150,
     "metadata": {},
     "output_type": "execute_result"
    }
   ],
   "source": [
    "lending_club_df.drop([ \"addr_state\",\"desc\",\"out_prncp_inv\",\"total_pymnt_inv\",\"funded_amnt\", \"delinq_2yrs\", \"revol_bal\", \"out_prncp\", \"total_pymnt\", \"total_rec_prncp\", \"total_rec_int\", \"total_rec_late_fee\", \"recoveries\", \"collection_recovery_fee\", \"last_pymnt_d\", \"last_pymnt_amnt\", \"next_pymnt_d\" , \"chargeoff_within_12_mths\", \"mths_since_last_delinq\", \"mths_since_last_record\"], axis = 1, inplace = True)\n",
    "lending_club_df.shape"
   ]
  },
  {
   "cell_type": "markdown",
   "id": "219682ae",
   "metadata": {},
   "source": [
    "##### The Analysis is to find who is likely to default the loan which requires data only for the cases for whom the loan is either totally paid or defaulters\n",
    " The data for whom the loan is currently ongoing can be dropped"
   ]
  },
  {
   "cell_type": "code",
   "execution_count": 151,
   "id": "6d07c7b3",
   "metadata": {},
   "outputs": [
    {
     "data": {
      "text/html": [
       "<div>\n",
       "<style scoped>\n",
       "    .dataframe tbody tr th:only-of-type {\n",
       "        vertical-align: middle;\n",
       "    }\n",
       "\n",
       "    .dataframe tbody tr th {\n",
       "        vertical-align: top;\n",
       "    }\n",
       "\n",
       "    .dataframe thead th {\n",
       "        text-align: right;\n",
       "    }\n",
       "</style>\n",
       "<table border=\"1\" class=\"dataframe\">\n",
       "  <thead>\n",
       "    <tr style=\"text-align: right;\">\n",
       "      <th></th>\n",
       "      <th>loan_amnt</th>\n",
       "      <th>funded_amnt_inv</th>\n",
       "      <th>term</th>\n",
       "      <th>int_rate</th>\n",
       "      <th>installment</th>\n",
       "      <th>grade</th>\n",
       "      <th>sub_grade</th>\n",
       "      <th>emp_length</th>\n",
       "      <th>home_ownership</th>\n",
       "      <th>annual_inc</th>\n",
       "      <th>...</th>\n",
       "      <th>issue_d</th>\n",
       "      <th>loan_status</th>\n",
       "      <th>purpose</th>\n",
       "      <th>dti</th>\n",
       "      <th>earliest_cr_line</th>\n",
       "      <th>inq_last_6mths</th>\n",
       "      <th>open_acc</th>\n",
       "      <th>pub_rec</th>\n",
       "      <th>revol_util</th>\n",
       "      <th>total_acc</th>\n",
       "    </tr>\n",
       "  </thead>\n",
       "  <tbody>\n",
       "    <tr>\n",
       "      <th>0</th>\n",
       "      <td>5000</td>\n",
       "      <td>4975.0</td>\n",
       "      <td>36 months</td>\n",
       "      <td>10.65%</td>\n",
       "      <td>162.87</td>\n",
       "      <td>B</td>\n",
       "      <td>B2</td>\n",
       "      <td>10+ years</td>\n",
       "      <td>RENT</td>\n",
       "      <td>24000.0</td>\n",
       "      <td>...</td>\n",
       "      <td>Dec-11</td>\n",
       "      <td>Fully Paid</td>\n",
       "      <td>credit_card</td>\n",
       "      <td>27.65</td>\n",
       "      <td>Jan-85</td>\n",
       "      <td>1</td>\n",
       "      <td>3</td>\n",
       "      <td>0</td>\n",
       "      <td>83.70%</td>\n",
       "      <td>9</td>\n",
       "    </tr>\n",
       "    <tr>\n",
       "      <th>1</th>\n",
       "      <td>2500</td>\n",
       "      <td>2500.0</td>\n",
       "      <td>60 months</td>\n",
       "      <td>15.27%</td>\n",
       "      <td>59.83</td>\n",
       "      <td>C</td>\n",
       "      <td>C4</td>\n",
       "      <td>&lt; 1 year</td>\n",
       "      <td>RENT</td>\n",
       "      <td>30000.0</td>\n",
       "      <td>...</td>\n",
       "      <td>Dec-11</td>\n",
       "      <td>Charged Off</td>\n",
       "      <td>car</td>\n",
       "      <td>1.00</td>\n",
       "      <td>Apr-99</td>\n",
       "      <td>5</td>\n",
       "      <td>3</td>\n",
       "      <td>0</td>\n",
       "      <td>9.40%</td>\n",
       "      <td>4</td>\n",
       "    </tr>\n",
       "    <tr>\n",
       "      <th>2</th>\n",
       "      <td>2400</td>\n",
       "      <td>2400.0</td>\n",
       "      <td>36 months</td>\n",
       "      <td>15.96%</td>\n",
       "      <td>84.33</td>\n",
       "      <td>C</td>\n",
       "      <td>C5</td>\n",
       "      <td>10+ years</td>\n",
       "      <td>RENT</td>\n",
       "      <td>12252.0</td>\n",
       "      <td>...</td>\n",
       "      <td>Dec-11</td>\n",
       "      <td>Fully Paid</td>\n",
       "      <td>small_business</td>\n",
       "      <td>8.72</td>\n",
       "      <td>Nov-01</td>\n",
       "      <td>2</td>\n",
       "      <td>2</td>\n",
       "      <td>0</td>\n",
       "      <td>98.50%</td>\n",
       "      <td>10</td>\n",
       "    </tr>\n",
       "    <tr>\n",
       "      <th>3</th>\n",
       "      <td>10000</td>\n",
       "      <td>10000.0</td>\n",
       "      <td>36 months</td>\n",
       "      <td>13.49%</td>\n",
       "      <td>339.31</td>\n",
       "      <td>C</td>\n",
       "      <td>C1</td>\n",
       "      <td>10+ years</td>\n",
       "      <td>RENT</td>\n",
       "      <td>49200.0</td>\n",
       "      <td>...</td>\n",
       "      <td>Dec-11</td>\n",
       "      <td>Fully Paid</td>\n",
       "      <td>other</td>\n",
       "      <td>20.00</td>\n",
       "      <td>Feb-96</td>\n",
       "      <td>1</td>\n",
       "      <td>10</td>\n",
       "      <td>0</td>\n",
       "      <td>21%</td>\n",
       "      <td>37</td>\n",
       "    </tr>\n",
       "    <tr>\n",
       "      <th>5</th>\n",
       "      <td>5000</td>\n",
       "      <td>5000.0</td>\n",
       "      <td>36 months</td>\n",
       "      <td>7.90%</td>\n",
       "      <td>156.46</td>\n",
       "      <td>A</td>\n",
       "      <td>A4</td>\n",
       "      <td>3 years</td>\n",
       "      <td>RENT</td>\n",
       "      <td>36000.0</td>\n",
       "      <td>...</td>\n",
       "      <td>Dec-11</td>\n",
       "      <td>Fully Paid</td>\n",
       "      <td>wedding</td>\n",
       "      <td>11.20</td>\n",
       "      <td>Nov-04</td>\n",
       "      <td>3</td>\n",
       "      <td>9</td>\n",
       "      <td>0</td>\n",
       "      <td>28.30%</td>\n",
       "      <td>12</td>\n",
       "    </tr>\n",
       "  </tbody>\n",
       "</table>\n",
       "<p>5 rows × 21 columns</p>\n",
       "</div>"
      ],
      "text/plain": [
       "   loan_amnt  funded_amnt_inv        term int_rate  installment grade  \\\n",
       "0       5000           4975.0   36 months   10.65%       162.87     B   \n",
       "1       2500           2500.0   60 months   15.27%        59.83     C   \n",
       "2       2400           2400.0   36 months   15.96%        84.33     C   \n",
       "3      10000          10000.0   36 months   13.49%       339.31     C   \n",
       "5       5000           5000.0   36 months    7.90%       156.46     A   \n",
       "\n",
       "  sub_grade emp_length home_ownership  annual_inc  ... issue_d  loan_status  \\\n",
       "0        B2  10+ years           RENT     24000.0  ...  Dec-11   Fully Paid   \n",
       "1        C4   < 1 year           RENT     30000.0  ...  Dec-11  Charged Off   \n",
       "2        C5  10+ years           RENT     12252.0  ...  Dec-11   Fully Paid   \n",
       "3        C1  10+ years           RENT     49200.0  ...  Dec-11   Fully Paid   \n",
       "5        A4    3 years           RENT     36000.0  ...  Dec-11   Fully Paid   \n",
       "\n",
       "          purpose    dti  earliest_cr_line inq_last_6mths  open_acc  pub_rec  \\\n",
       "0     credit_card  27.65            Jan-85              1         3        0   \n",
       "1             car   1.00            Apr-99              5         3        0   \n",
       "2  small_business   8.72            Nov-01              2         2        0   \n",
       "3           other  20.00            Feb-96              1        10        0   \n",
       "5         wedding  11.20            Nov-04              3         9        0   \n",
       "\n",
       "   revol_util total_acc  \n",
       "0      83.70%         9  \n",
       "1       9.40%         4  \n",
       "2      98.50%        10  \n",
       "3         21%        37  \n",
       "5      28.30%        12  \n",
       "\n",
       "[5 rows x 21 columns]"
      ]
     },
     "execution_count": 151,
     "metadata": {},
     "output_type": "execute_result"
    }
   ],
   "source": [
    "# Storing the data with no current on going loan in the lending_club data frame\n",
    "lending_club_df = lending_club_df[~(lending_club_df['loan_status'] == 'Current')]\n",
    "lending_club_df.head()"
   ]
  },
  {
   "cell_type": "code",
   "execution_count": 152,
   "id": "f57bd224",
   "metadata": {},
   "outputs": [
    {
     "data": {
      "text/html": [
       "<div>\n",
       "<style scoped>\n",
       "    .dataframe tbody tr th:only-of-type {\n",
       "        vertical-align: middle;\n",
       "    }\n",
       "\n",
       "    .dataframe tbody tr th {\n",
       "        vertical-align: top;\n",
       "    }\n",
       "\n",
       "    .dataframe thead th {\n",
       "        text-align: right;\n",
       "    }\n",
       "</style>\n",
       "<table border=\"1\" class=\"dataframe\">\n",
       "  <thead>\n",
       "    <tr style=\"text-align: right;\">\n",
       "      <th></th>\n",
       "      <th>loan_amnt</th>\n",
       "      <th>funded_amnt_inv</th>\n",
       "      <th>term</th>\n",
       "      <th>int_rate</th>\n",
       "      <th>installment</th>\n",
       "      <th>grade</th>\n",
       "      <th>sub_grade</th>\n",
       "      <th>emp_length</th>\n",
       "      <th>home_ownership</th>\n",
       "      <th>annual_inc</th>\n",
       "      <th>...</th>\n",
       "      <th>issue_d</th>\n",
       "      <th>loan_status</th>\n",
       "      <th>purpose</th>\n",
       "      <th>dti</th>\n",
       "      <th>earliest_cr_line</th>\n",
       "      <th>inq_last_6mths</th>\n",
       "      <th>open_acc</th>\n",
       "      <th>pub_rec</th>\n",
       "      <th>revol_util</th>\n",
       "      <th>total_acc</th>\n",
       "    </tr>\n",
       "  </thead>\n",
       "  <tbody>\n",
       "  </tbody>\n",
       "</table>\n",
       "<p>0 rows × 21 columns</p>\n",
       "</div>"
      ],
      "text/plain": [
       "Empty DataFrame\n",
       "Columns: [loan_amnt, funded_amnt_inv, term, int_rate, installment, grade, sub_grade, emp_length, home_ownership, annual_inc, verification_status, issue_d, loan_status, purpose, dti, earliest_cr_line, inq_last_6mths, open_acc, pub_rec, revol_util, total_acc]\n",
       "Index: []\n",
       "\n",
       "[0 rows x 21 columns]"
      ]
     },
     "execution_count": 152,
     "metadata": {},
     "output_type": "execute_result"
    }
   ],
   "source": [
    "#checking for any further data with 'loan status' as 'current'\n",
    "lending_club_df[lending_club_df['loan_status'] == 'Current']"
   ]
  },
  {
   "cell_type": "markdown",
   "id": "6abc8959",
   "metadata": {},
   "source": [
    "### 3. Missing Value Check"
   ]
  },
  {
   "cell_type": "markdown",
   "id": "e76cd893",
   "metadata": {},
   "source": [
    "#### Need to treat the null values present in column 'emp_length'"
   ]
  },
  {
   "cell_type": "code",
   "execution_count": 153,
   "id": "87740d83",
   "metadata": {},
   "outputs": [
    {
     "data": {
      "text/plain": [
       "10+ years    8488\n",
       "< 1 year     4508\n",
       "2 years      4291\n",
       "3 years      4012\n",
       "4 years      3342\n",
       "5 years      3194\n",
       "1 year       3169\n",
       "6 years      2168\n",
       "7 years      1711\n",
       "8 years      1435\n",
       "9 years      1226\n",
       "Name: emp_length, dtype: int64"
      ]
     },
     "execution_count": 153,
     "metadata": {},
     "output_type": "execute_result"
    }
   ],
   "source": [
    "lending_club_df['emp_length'].value_counts()"
   ]
  },
  {
   "cell_type": "code",
   "execution_count": 154,
   "id": "5456fad9",
   "metadata": {},
   "outputs": [
    {
     "data": {
      "text/plain": [
       "dtype('O')"
      ]
     },
     "execution_count": 154,
     "metadata": {},
     "output_type": "execute_result"
    }
   ],
   "source": [
    "#checking for the current data type of the 'emp_length' column\n",
    "lending_club_df['emp_length'].dtype"
   ]
  },
  {
   "cell_type": "markdown",
   "id": "55905984",
   "metadata": {},
   "source": [
    "#### The above value counts shows that the mode value has far higher frequency than that of the next most frequent value.\n",
    " So we can  assign the value of mode to the null values in the column. The missing values are in very low percentage. So replacing with the mode value will not affect much in the analysis"
   ]
  },
  {
   "cell_type": "code",
   "execution_count": 155,
   "id": "f99ef23a",
   "metadata": {},
   "outputs": [
    {
     "data": {
      "text/plain": [
       "0"
      ]
     },
     "execution_count": 155,
     "metadata": {},
     "output_type": "execute_result"
    }
   ],
   "source": [
    "#Fill all the null values with the mode value\n",
    "lending_club_df.emp_length.fillna(lending_club_df.emp_length.mode()[0], inplace = True)\n",
    "lending_club_df.emp_length.isna().sum()"
   ]
  },
  {
   "cell_type": "code",
   "execution_count": 156,
   "id": "a9befe84",
   "metadata": {},
   "outputs": [
    {
     "data": {
      "text/plain": [
       "dtype('O')"
      ]
     },
     "execution_count": 156,
     "metadata": {},
     "output_type": "execute_result"
    }
   ],
   "source": [
    "lending_club_df['emp_length'].dtype"
   ]
  },
  {
   "cell_type": "code",
   "execution_count": 157,
   "id": "2e0bc982",
   "metadata": {},
   "outputs": [
    {
     "data": {
      "text/plain": [
       "10+ years    9521\n",
       "< 1 year     4508\n",
       "2 years      4291\n",
       "3 years      4012\n",
       "4 years      3342\n",
       "5 years      3194\n",
       "1 year       3169\n",
       "6 years      2168\n",
       "7 years      1711\n",
       "8 years      1435\n",
       "9 years      1226\n",
       "Name: emp_length, dtype: int64"
      ]
     },
     "execution_count": 157,
     "metadata": {},
     "output_type": "execute_result"
    }
   ],
   "source": [
    "lending_club_df['emp_length'].value_counts()"
   ]
  },
  {
   "cell_type": "markdown",
   "id": "0dcad975",
   "metadata": {},
   "source": [
    "#### Need to impute the left over data from column emp_length\n",
    "•\tThe data we have contains emp_length as >10 years which we will consider as 10                                \n",
    "•\tThe data that contains emp_length as <1 year we will consider them as 0                              \n",
    "•\tThe rest of the data containing the number of years we will only store the numeric values in the column emp_length\n",
    " "
   ]
  },
  {
   "cell_type": "code",
   "execution_count": 158,
   "id": "aab45827",
   "metadata": {},
   "outputs": [],
   "source": [
    "# lambda operation to store 0 if <1 yr , 10 if >10yr and rest replace the respective data with only numeric data of emp_length\n",
    "lending_club_df['emp_length'] = pd.to_numeric(lending_club_df['emp_length'].apply(lambda x: 0 if '<' in x.split()[0] else (x.split('+')[0] if '+' in x else x.split()[0]) ) )"
   ]
  },
  {
   "cell_type": "code",
   "execution_count": 159,
   "id": "0d2ef26c",
   "metadata": {},
   "outputs": [
    {
     "data": {
      "text/plain": [
       "10    9521\n",
       "0     4508\n",
       "2     4291\n",
       "3     4012\n",
       "4     3342\n",
       "5     3194\n",
       "1     3169\n",
       "6     2168\n",
       "7     1711\n",
       "8     1435\n",
       "9     1226\n",
       "Name: emp_length, dtype: int64"
      ]
     },
     "execution_count": 159,
     "metadata": {},
     "output_type": "execute_result"
    }
   ],
   "source": [
    "lending_club_df['emp_length'].value_counts()"
   ]
  },
  {
   "cell_type": "code",
   "execution_count": 160,
   "id": "b5a6b65d",
   "metadata": {},
   "outputs": [
    {
     "data": {
      "text/plain": [
       "loan_amnt               0\n",
       "funded_amnt_inv         0\n",
       "term                    0\n",
       "int_rate                0\n",
       "installment             0\n",
       "grade                   0\n",
       "sub_grade               0\n",
       "emp_length              0\n",
       "home_ownership          0\n",
       "annual_inc              0\n",
       "verification_status     0\n",
       "issue_d                 0\n",
       "loan_status             0\n",
       "purpose                 0\n",
       "dti                     0\n",
       "earliest_cr_line        0\n",
       "inq_last_6mths          0\n",
       "open_acc                0\n",
       "pub_rec                 0\n",
       "revol_util             50\n",
       "total_acc               0\n",
       "dtype: int64"
      ]
     },
     "execution_count": 160,
     "metadata": {},
     "output_type": "execute_result"
    }
   ],
   "source": [
    "#checking for all the the null values present in each columns for further data cleaning \n",
    "lending_club_df.isnull().sum()"
   ]
  },
  {
   "cell_type": "markdown",
   "id": "0aaf37a2",
   "metadata": {},
   "source": [
    "#### Need to impute the left over data from column revol_util\n",
    "•\tThe data we have contains some null values, which are very less in number and can safely be dropped                          •\tThe data that we have after removing the null values contains '%' which needs to removed with only the numeric value present          "
   ]
  },
  {
   "cell_type": "code",
   "execution_count": 161,
   "id": "882b52ac",
   "metadata": {},
   "outputs": [
    {
     "data": {
      "text/plain": [
       "0"
      ]
     },
     "execution_count": 161,
     "metadata": {},
     "output_type": "execute_result"
    }
   ],
   "source": [
    "lending_club_df.dropna(axis = 0, subset = ['revol_util'] , inplace = True)\n",
    "lending_club_df.revol_util.isna().sum()"
   ]
  },
  {
   "cell_type": "code",
   "execution_count": 162,
   "id": "d9dcbcff",
   "metadata": {},
   "outputs": [],
   "source": [
    "#removing the '%' and only keeping the numeric values\n",
    "lending_club_df.revol_util = pd.to_numeric(lending_club_df.revol_util.apply(lambda x: x.split('%')[0]))"
   ]
  },
  {
   "cell_type": "code",
   "execution_count": 163,
   "id": "21598075",
   "metadata": {},
   "outputs": [
    {
     "data": {
      "text/plain": [
       "0.00     954\n",
       "0.20      62\n",
       "63.00     62\n",
       "40.70     57\n",
       "31.20     57\n",
       "        ... \n",
       "77.63      1\n",
       "25.74      1\n",
       "0.83       1\n",
       "47.36      1\n",
       "7.28       1\n",
       "Name: revol_util, Length: 1088, dtype: int64"
      ]
     },
     "execution_count": 163,
     "metadata": {},
     "output_type": "execute_result"
    }
   ],
   "source": [
    "lending_club_df['revol_util'].value_counts()"
   ]
  },
  {
   "cell_type": "code",
   "execution_count": 141,
   "id": "337b68e3",
   "metadata": {},
   "outputs": [
    {
     "data": {
      "text/plain": [
       "loan_amnt              0\n",
       "funded_amnt_inv        0\n",
       "term                   0\n",
       "int_rate               0\n",
       "installment            0\n",
       "grade                  0\n",
       "sub_grade              0\n",
       "emp_length             0\n",
       "home_ownership         0\n",
       "annual_inc             0\n",
       "verification_status    0\n",
       "issue_d                0\n",
       "loan_status            0\n",
       "purpose                0\n",
       "dti                    0\n",
       "earliest_cr_line       0\n",
       "inq_last_6mths         0\n",
       "open_acc               0\n",
       "pub_rec                0\n",
       "revol_util             0\n",
       "total_acc              0\n",
       "dtype: int64"
      ]
     },
     "execution_count": 141,
     "metadata": {},
     "output_type": "execute_result"
    }
   ],
   "source": [
    "#checking for all the the null values present in each columns and currently it shows that there are no null values present in any of the remaining columns\n",
    "lending_club_CS.isnull().sum()"
   ]
  },
  {
   "cell_type": "markdown",
   "id": "3310a658",
   "metadata": {},
   "source": [
    "#### Need to impute the left over data from column int_rate\n",
    " •\tThe data that we have  contains '%' which needs to removed with only the numeric value present"
   ]
  },
  {
   "cell_type": "code",
   "execution_count": 164,
   "id": "77730cdc",
   "metadata": {},
   "outputs": [],
   "source": [
    "lending_club_CS.int_rate = pd.to_numeric(lending_club_CS.int_rate.apply(lambda x : x.split('%')[0]))"
   ]
  },
  {
   "cell_type": "code",
   "execution_count": 166,
   "id": "26a6f025",
   "metadata": {},
   "outputs": [
    {
     "data": {
      "text/plain": [
       "10.99    913\n",
       "11.49    790\n",
       "7.51     787\n",
       "13.49    749\n",
       "7.88     725\n",
       "        ... \n",
       "16.33      1\n",
       "16.15      1\n",
       "16.01      1\n",
       "10.64      1\n",
       "16.20      1\n",
       "Name: int_rate, Length: 370, dtype: int64"
      ]
     },
     "execution_count": 166,
     "metadata": {},
     "output_type": "execute_result"
    }
   ],
   "source": [
    "lending_club_CS['int_rate'].value_counts()"
   ]
  },
  {
   "cell_type": "markdown",
   "id": "d1bbede6",
   "metadata": {},
   "source": [
    "#### So finally all the data cleaning is done,  irrelavant columns are removed ,  null values are imputed and taken care."
   ]
  },
  {
   "cell_type": "markdown",
   "id": "4adbcec5",
   "metadata": {},
   "source": [
    "### 4. Outliers Treatment\n"
   ]
  },
  {
   "cell_type": "markdown",
   "id": "e3e036de",
   "metadata": {},
   "source": [
    "##### Lets first check the data for 'annual_inc'  if any outliers are present or not. We will plot a box plot to check the presence of outliers."
   ]
  },
  {
   "cell_type": "code",
   "execution_count": 170,
   "id": "91fb5b9d",
   "metadata": {},
   "outputs": [
    {
     "data": {
      "text/plain": [
       "<AxesSubplot:ylabel='annual_inc'>"
      ]
     },
     "execution_count": 170,
     "metadata": {},
     "output_type": "execute_result"
    },
    {
     "data": {
      "image/png": "[encoded data removed]",
      "text/plain": [
       "<Figure size 648x504 with 1 Axes>"
      ]
     },
     "metadata": {
      "needs_background": "light"
     },
     "output_type": "display_data"
    }
   ],
   "source": [
    "plt.figure(figsize = [ 9 , 7])\n",
    "sns.boxplot(y = lending_club_CS['annual_inc'])"
   ]
  },
  {
   "cell_type": "markdown",
   "id": "06aa83dc",
   "metadata": {},
   "source": [
    "##### The above box plot clearly shows the presence of outliers."
   ]
  },
  {
   "cell_type": "markdown",
   "id": "5d187bd4",
   "metadata": {},
   "source": [
    "###### On Checking the quantile info at different points:\n",
    "•\tIt is seen that after 95 percentile there is a huge and abrupt increase in value for small quantile variation.      \n",
    "•\tSo we will consider threshold for removing outliers are 0.95 percentile.\n"
   ]
  },
  {
   "cell_type": "code",
   "execution_count": 171,
   "id": "97260b75",
   "metadata": {},
   "outputs": [
    {
     "data": {
      "text/plain": [
       "0.50     59000.0\n",
       "0.75     82000.0\n",
       "0.90    115000.0\n",
       "0.95    140004.0\n",
       "0.97    165000.0\n",
       "0.98    187000.0\n",
       "0.99    234000.0\n",
       "Name: annual_inc, dtype: float64"
      ]
     },
     "execution_count": 171,
     "metadata": {},
     "output_type": "execute_result"
    }
   ],
   "source": [
    "quantile_info = lending_club_CS.annual_inc.quantile([0.5, 0.75,0.90, 0.95, 0.97,0.98, 0.99])\n",
    "quantile_info"
   ]
  },
  {
   "cell_type": "code",
   "execution_count": 174,
   "id": "e995f164",
   "metadata": {},
   "outputs": [],
   "source": [
    "annual_inc_per95 =  lending_club_CS.annual_inc.quantile(0.95)"
   ]
  },
  {
   "cell_type": "code",
   "execution_count": 175,
   "id": "b7fda094",
   "metadata": {},
   "outputs": [],
   "source": [
    "lending_club_CS  =  lending_club_CS [  lending_club_CS.annual_inc <= annual_inc_per95 ]"
   ]
  },
  {
   "cell_type": "markdown",
   "id": "1593df85",
   "metadata": {},
   "source": [
    "##### Now ploting again the same box plot shows fine results"
   ]
  },
  {
   "cell_type": "code",
   "execution_count": 177,
   "id": "5fea95e2",
   "metadata": {},
   "outputs": [
    {
     "data": {
      "image/png": "[encoded data removed]",
      "text/plain": [
       "<Figure size 648x504 with 1 Axes>"
      ]
     },
     "metadata": {
      "needs_background": "light"
     },
     "output_type": "display_data"
    }
   ],
   "source": [
    "plt.figure(figsize = [ 9 , 7])\n",
    "sns.boxplot(y = lending_club_CS['annual_inc'])\n",
    "plt.show()"
   ]
  },
  {
   "cell_type": "markdown",
   "id": "5c7b0a9d",
   "metadata": {},
   "source": [
    "##### Lets now check for the presence of outliers for loan_amnt ,  funded_amnt_inv ,  dti"
   ]
  },
  {
   "cell_type": "code",
   "execution_count": 187,
   "id": "e7babf0d",
   "metadata": {},
   "outputs": [
    {
     "data": {
      "text/plain": [
       "0.90    20000.0\n",
       "0.95    25000.0\n",
       "0.96    25000.0\n",
       "0.97    25475.0\n",
       "0.98    30000.0\n",
       "0.99    35000.0\n",
       "Name: loan_amnt, dtype: float64"
      ]
     },
     "execution_count": 187,
     "metadata": {},
     "output_type": "execute_result"
    }
   ],
   "source": [
    "lending_club_CS.loan_amnt.quantile([0.90,0.95,0.96,0.97,0.98,0.99])"
   ]
  },
  {
   "cell_type": "code",
   "execution_count": 205,
   "id": "f93d7528",
   "metadata": {},
   "outputs": [
    {
     "data": {
      "image/png": "[encoded data removed]",
      "text/plain": [
       "<Figure size 432x288 with 1 Axes>"
      ]
     },
     "metadata": {
      "needs_background": "light"
     },
     "output_type": "display_data"
    }
   ],
   "source": [
    "sns.boxplot(y = lending_club_CS['loan_amnt'])\n",
    "plt.show()"
   ]
  },
  {
   "cell_type": "code",
   "execution_count": 188,
   "id": "b273087a",
   "metadata": {},
   "outputs": [
    {
     "data": {
      "text/plain": [
       "0.90    19750.000000\n",
       "0.95    23949.287805\n",
       "0.96    24664.436978\n",
       "0.97    24975.000000\n",
       "0.98    27953.287538\n",
       "0.99    31966.803281\n",
       "Name: funded_amnt_inv, dtype: float64"
      ]
     },
     "execution_count": 188,
     "metadata": {},
     "output_type": "execute_result"
    }
   ],
   "source": [
    "lending_club_CS.funded_amnt_inv.quantile([0.90,0.95,0.96,0.97,0.98,0.99])"
   ]
  },
  {
   "cell_type": "code",
   "execution_count": 204,
   "id": "3301ddb9",
   "metadata": {},
   "outputs": [
    {
     "data": {
      "image/png": "[encoded data removed]",
      "text/plain": [
       "<Figure size 432x288 with 1 Axes>"
      ]
     },
     "metadata": {
      "needs_background": "light"
     },
     "output_type": "display_data"
    }
   ],
   "source": [
    "sns.boxplot(y = lending_club_CS['funded_amnt_inv'])\n",
    "plt.show()"
   ]
  },
  {
   "cell_type": "code",
   "execution_count": 189,
   "id": "d891f343",
   "metadata": {},
   "outputs": [
    {
     "data": {
      "text/plain": [
       "0.90    22.390\n",
       "0.95    23.860\n",
       "0.96    24.190\n",
       "0.97    24.540\n",
       "0.98    24.880\n",
       "0.99    26.659\n",
       "Name: dti, dtype: float64"
      ]
     },
     "execution_count": 189,
     "metadata": {},
     "output_type": "execute_result"
    }
   ],
   "source": [
    "lending_club_CS.dti.quantile([0.90,0.95,0.96,0.97,0.98,0.99])"
   ]
  },
  {
   "cell_type": "code",
   "execution_count": 203,
   "id": "3fbfce1f",
   "metadata": {},
   "outputs": [
    {
     "data": {
      "image/png": "[encoded data removed]",
      "text/plain": [
       "<Figure size 432x288 with 1 Axes>"
      ]
     },
     "metadata": {
      "needs_background": "light"
     },
     "output_type": "display_data"
    }
   ],
   "source": [
    "sns.boxplot(y = lending_club_CS['dti'])\n",
    "plt.show()"
   ]
  },
  {
   "cell_type": "markdown",
   "id": "c008df94",
   "metadata": {},
   "source": [
    "##### From the above box plots for loan_amnt , funded_amnt_inv , dti it is observed:\n",
    "\n",
    "•\tThere are some presence of values far from the distribution for loan_amnt , funded_amnt_inv but the plot is pretty continuous and therefore can be ignored.                                                        \n",
    "•\tDti boxplot does  not show any presence of outliers.\n"
   ]
  },
  {
   "cell_type": "markdown",
   "id": "5a137353",
   "metadata": {},
   "source": [
    "# Categorical Data Analysis "
   ]
  },
  {
   "cell_type": "markdown",
   "id": "902e49a5",
   "metadata": {},
   "source": [
    "### a)Analyzing home ownership\n",
    "•\tWe see that there are 3 data with ownership type as NONE , so we replace them with OTHER.                           \n",
    "•\tWe then segregate them on the basis of ‘Charged_off’ and ‘Full_Paid’ customers                                \n",
    "•\tThen plot them to check the trend difference if any.\n"
   ]
  },
  {
   "cell_type": "code",
   "execution_count": 193,
   "id": "89946c29",
   "metadata": {},
   "outputs": [
    {
     "data": {
      "text/plain": [
       "RENT        18000\n",
       "MORTGAGE    15665\n",
       "OWN          2847\n",
       "OTHER          91\n",
       "NONE            3\n",
       "Name: home_ownership, dtype: int64"
      ]
     },
     "execution_count": 193,
     "metadata": {},
     "output_type": "execute_result"
    }
   ],
   "source": [
    "#checking unique values for home_ownership\n",
    "lending_club_CS['home_ownership'].value_counts()"
   ]
  },
  {
   "cell_type": "code",
   "execution_count": 194,
   "id": "8ad6351b",
   "metadata": {
    "scrolled": true
   },
   "outputs": [
    {
     "data": {
      "text/html": [
       "<div>\n",
       "<style scoped>\n",
       "    .dataframe tbody tr th:only-of-type {\n",
       "        vertical-align: middle;\n",
       "    }\n",
       "\n",
       "    .dataframe tbody tr th {\n",
       "        vertical-align: top;\n",
       "    }\n",
       "\n",
       "    .dataframe thead th {\n",
       "        text-align: right;\n",
       "    }\n",
       "</style>\n",
       "<table border=\"1\" class=\"dataframe\">\n",
       "  <thead>\n",
       "    <tr style=\"text-align: right;\">\n",
       "      <th></th>\n",
       "      <th>loan_amnt</th>\n",
       "      <th>funded_amnt_inv</th>\n",
       "      <th>term</th>\n",
       "      <th>int_rate</th>\n",
       "      <th>installment</th>\n",
       "      <th>grade</th>\n",
       "      <th>sub_grade</th>\n",
       "      <th>emp_length</th>\n",
       "      <th>home_ownership</th>\n",
       "      <th>annual_inc</th>\n",
       "      <th>...</th>\n",
       "      <th>issue_d</th>\n",
       "      <th>loan_status</th>\n",
       "      <th>purpose</th>\n",
       "      <th>dti</th>\n",
       "      <th>earliest_cr_line</th>\n",
       "      <th>inq_last_6mths</th>\n",
       "      <th>open_acc</th>\n",
       "      <th>pub_rec</th>\n",
       "      <th>revol_util</th>\n",
       "      <th>total_acc</th>\n",
       "    </tr>\n",
       "  </thead>\n",
       "  <tbody>\n",
       "    <tr>\n",
       "      <th>39318</th>\n",
       "      <td>10000</td>\n",
       "      <td>1228.06</td>\n",
       "      <td>36 months</td>\n",
       "      <td>7.75</td>\n",
       "      <td>312.22</td>\n",
       "      <td>A</td>\n",
       "      <td>A3</td>\n",
       "      <td>5</td>\n",
       "      <td>NONE</td>\n",
       "      <td>22200.0</td>\n",
       "      <td>...</td>\n",
       "      <td>Jan-08</td>\n",
       "      <td>Fully Paid</td>\n",
       "      <td>debt_consolidation</td>\n",
       "      <td>5.24</td>\n",
       "      <td>Apr-94</td>\n",
       "      <td>0</td>\n",
       "      <td>9</td>\n",
       "      <td>0</td>\n",
       "      <td>8.7</td>\n",
       "      <td>22</td>\n",
       "    </tr>\n",
       "    <tr>\n",
       "      <th>39659</th>\n",
       "      <td>4000</td>\n",
       "      <td>1925.00</td>\n",
       "      <td>36 months</td>\n",
       "      <td>9.64</td>\n",
       "      <td>128.41</td>\n",
       "      <td>B</td>\n",
       "      <td>B4</td>\n",
       "      <td>0</td>\n",
       "      <td>NONE</td>\n",
       "      <td>100000.0</td>\n",
       "      <td>...</td>\n",
       "      <td>Aug-07</td>\n",
       "      <td>Fully Paid</td>\n",
       "      <td>other</td>\n",
       "      <td>15.00</td>\n",
       "      <td>May-99</td>\n",
       "      <td>1</td>\n",
       "      <td>6</td>\n",
       "      <td>0</td>\n",
       "      <td>14.9</td>\n",
       "      <td>8</td>\n",
       "    </tr>\n",
       "    <tr>\n",
       "      <th>39660</th>\n",
       "      <td>2800</td>\n",
       "      <td>1625.00</td>\n",
       "      <td>36 months</td>\n",
       "      <td>8.70</td>\n",
       "      <td>88.65</td>\n",
       "      <td>B</td>\n",
       "      <td>B1</td>\n",
       "      <td>0</td>\n",
       "      <td>NONE</td>\n",
       "      <td>120000.0</td>\n",
       "      <td>...</td>\n",
       "      <td>Aug-07</td>\n",
       "      <td>Fully Paid</td>\n",
       "      <td>other</td>\n",
       "      <td>15.00</td>\n",
       "      <td>May-99</td>\n",
       "      <td>1</td>\n",
       "      <td>6</td>\n",
       "      <td>0</td>\n",
       "      <td>14.9</td>\n",
       "      <td>8</td>\n",
       "    </tr>\n",
       "  </tbody>\n",
       "</table>\n",
       "<p>3 rows × 21 columns</p>\n",
       "</div>"
      ],
      "text/plain": [
       "       loan_amnt  funded_amnt_inv        term  int_rate  installment grade  \\\n",
       "39318      10000          1228.06   36 months      7.75       312.22     A   \n",
       "39659       4000          1925.00   36 months      9.64       128.41     B   \n",
       "39660       2800          1625.00   36 months      8.70        88.65     B   \n",
       "\n",
       "      sub_grade  emp_length home_ownership  annual_inc  ... issue_d  \\\n",
       "39318        A3           5           NONE     22200.0  ...  Jan-08   \n",
       "39659        B4           0           NONE    100000.0  ...  Aug-07   \n",
       "39660        B1           0           NONE    120000.0  ...  Aug-07   \n",
       "\n",
       "      loan_status             purpose    dti  earliest_cr_line inq_last_6mths  \\\n",
       "39318  Fully Paid  debt_consolidation   5.24            Apr-94              0   \n",
       "39659  Fully Paid               other  15.00            May-99              1   \n",
       "39660  Fully Paid               other  15.00            May-99              1   \n",
       "\n",
       "       open_acc  pub_rec  revol_util  total_acc  \n",
       "39318         9        0         8.7         22  \n",
       "39659         6        0        14.9          8  \n",
       "39660         6        0        14.9          8  \n",
       "\n",
       "[3 rows x 21 columns]"
      ]
     },
     "execution_count": 194,
     "metadata": {},
     "output_type": "execute_result"
    }
   ],
   "source": [
    "lending_club_CS [lending_club_CS.home_ownership == 'NONE']"
   ]
  },
  {
   "cell_type": "code",
   "execution_count": 195,
   "id": "e00db0c4",
   "metadata": {},
   "outputs": [],
   "source": [
    "lending_club_CS.home_ownership.replace(to_replace = ['NONE'] , value = 'OTHER' , inplace = True   )"
   ]
  },
  {
   "cell_type": "code",
   "execution_count": 196,
   "id": "8aaa25b2",
   "metadata": {},
   "outputs": [
    {
     "data": {
      "text/html": [
       "<div>\n",
       "<style scoped>\n",
       "    .dataframe tbody tr th:only-of-type {\n",
       "        vertical-align: middle;\n",
       "    }\n",
       "\n",
       "    .dataframe tbody tr th {\n",
       "        vertical-align: top;\n",
       "    }\n",
       "\n",
       "    .dataframe thead th {\n",
       "        text-align: right;\n",
       "    }\n",
       "</style>\n",
       "<table border=\"1\" class=\"dataframe\">\n",
       "  <thead>\n",
       "    <tr style=\"text-align: right;\">\n",
       "      <th></th>\n",
       "      <th>loan_amnt</th>\n",
       "      <th>funded_amnt_inv</th>\n",
       "      <th>term</th>\n",
       "      <th>int_rate</th>\n",
       "      <th>installment</th>\n",
       "      <th>grade</th>\n",
       "      <th>sub_grade</th>\n",
       "      <th>emp_length</th>\n",
       "      <th>home_ownership</th>\n",
       "      <th>annual_inc</th>\n",
       "      <th>...</th>\n",
       "      <th>issue_d</th>\n",
       "      <th>loan_status</th>\n",
       "      <th>purpose</th>\n",
       "      <th>dti</th>\n",
       "      <th>earliest_cr_line</th>\n",
       "      <th>inq_last_6mths</th>\n",
       "      <th>open_acc</th>\n",
       "      <th>pub_rec</th>\n",
       "      <th>revol_util</th>\n",
       "      <th>total_acc</th>\n",
       "    </tr>\n",
       "  </thead>\n",
       "  <tbody>\n",
       "  </tbody>\n",
       "</table>\n",
       "<p>0 rows × 21 columns</p>\n",
       "</div>"
      ],
      "text/plain": [
       "Empty DataFrame\n",
       "Columns: [loan_amnt, funded_amnt_inv, term, int_rate, installment, grade, sub_grade, emp_length, home_ownership, annual_inc, verification_status, issue_d, loan_status, purpose, dti, earliest_cr_line, inq_last_6mths, open_acc, pub_rec, revol_util, total_acc]\n",
       "Index: []\n",
       "\n",
       "[0 rows x 21 columns]"
      ]
     },
     "execution_count": 196,
     "metadata": {},
     "output_type": "execute_result"
    }
   ],
   "source": [
    "lending_club_CS [lending_club_CS.home_ownership == 'NONE']"
   ]
  },
  {
   "cell_type": "code",
   "execution_count": 197,
   "id": "63515ee6",
   "metadata": {},
   "outputs": [],
   "source": [
    "lending_club_CS_charged_off = lending_club_CS [  lending_club_CS.loan_status == 'Charged Off']"
   ]
  },
  {
   "cell_type": "code",
   "execution_count": 206,
   "id": "919ad899",
   "metadata": {},
   "outputs": [],
   "source": [
    "lending_club_CS_fully_paid = lending_club_CS [  lending_club_CS.loan_status == 'Fully Paid']"
   ]
  },
  {
   "cell_type": "code",
   "execution_count": 330,
   "id": "345c47fe",
   "metadata": {},
   "outputs": [
    {
     "data": {
      "text/plain": [
       "Text(0.5, 0, 'home_ownership_fully_paid')"
      ]
     },
     "execution_count": 330,
     "metadata": {},
     "output_type": "execute_result"
    },
    {
     "data": {
      "image/png": "[encoded data removed]",
      "text/plain": [
       "<Figure size 1080x720 with 2 Axes>"
      ]
     },
     "metadata": {
      "needs_background": "light"
     },
     "output_type": "display_data"
    }
   ],
   "source": [
    "fig, ax = plt.subplots(figsize = (15,10))\n",
    "plt.subplot(221)\n",
    "sns.countplot(x='home_ownership', data=lending_club_CS_charged_off)\n",
    "plt.xlabel('home_ownership')\n",
    "plt.subplot(222)\n",
    "sns.countplot(x='home_ownership', data=lending_club_CS_fully_paid)\n",
    "plt.xlabel('home_ownership_fully_paid')"
   ]
  },
  {
   "cell_type": "markdown",
   "id": "4d6c4231",
   "metadata": {},
   "source": [
    "### b)Analyzing Purpose"
   ]
  },
  {
   "cell_type": "code",
   "execution_count": 217,
   "id": "280d3607",
   "metadata": {},
   "outputs": [
    {
     "data": {
      "text/plain": [
       "Text(0.5, 0, 'purpose_fully_paid')"
      ]
     },
     "execution_count": 217,
     "metadata": {},
     "output_type": "execute_result"
    },
    {
     "data": {
      "image/png": "[encoded data removed]",
      "text/plain": [
       "<Figure size 1080x720 with 2 Axes>"
      ]
     },
     "metadata": {
      "needs_background": "light"
     },
     "output_type": "display_data"
    }
   ],
   "source": [
    "fig, ax = plt.subplots(figsize = (15,10))\n",
    "plt.subplot(221)\n",
    "sns.countplot(y='purpose', data=lending_club_CS_charged_off)\n",
    "plt.xlabel('purpose_charged_off')\n",
    "plt.subplot(222)\n",
    "sns.countplot(y='purpose', data=lending_club_CS_fully_paid)\n",
    "plt.xlabel('purpose_fully_paid')"
   ]
  },
  {
   "cell_type": "markdown",
   "id": "30ff4f77",
   "metadata": {},
   "source": [
    "### c)Analyzing Verification Status"
   ]
  },
  {
   "cell_type": "code",
   "execution_count": 332,
   "id": "4189bdc5",
   "metadata": {},
   "outputs": [
    {
     "data": {
      "text/plain": [
       "Text(0.5, 0, 'verification_status_fully_paid')"
      ]
     },
     "execution_count": 332,
     "metadata": {},
     "output_type": "execute_result"
    },
    {
     "data": {
      "image/png": "[encoded data removed]",
      "text/plain": [
       "<Figure size 1080x720 with 2 Axes>"
      ]
     },
     "metadata": {
      "needs_background": "light"
     },
     "output_type": "display_data"
    }
   ],
   "source": [
    "fig, ax = plt.subplots(figsize = (15,10))\n",
    "plt.subplot(221)\n",
    "sns.countplot(y='verification_status', data=lending_club_CS_charged_off)\n",
    "plt.xlabel('verification_status_charged_off')\n",
    "plt.subplot(222)\n",
    "sns.countplot(y='verification_status', data=lending_club_CS_fully_paid)\n",
    "plt.xlabel('verification_status_fully_paid')"
   ]
  },
  {
   "cell_type": "markdown",
   "id": "a0794e1c",
   "metadata": {},
   "source": [
    "### d)Analyzing Grade Status"
   ]
  },
  {
   "cell_type": "code",
   "execution_count": 220,
   "id": "a2579613",
   "metadata": {},
   "outputs": [
    {
     "data": {
      "text/plain": [
       "Text(0.5, 0, 'grade_fully_paid')"
      ]
     },
     "execution_count": 220,
     "metadata": {},
     "output_type": "execute_result"
    },
    {
     "data": {
      "image/png": "[encoded data removed]",
      "text/plain": [
       "<Figure size 1080x720 with 2 Axes>"
      ]
     },
     "metadata": {
      "needs_background": "light"
     },
     "output_type": "display_data"
    }
   ],
   "source": [
    "fig, ax = plt.subplots(figsize = (15,10))\n",
    "plt.subplot(221)\n",
    "sns.countplot(x='grade', data=lending_club_CS_charged_off)\n",
    "plt.xlabel('grade_charged_off')\n",
    "plt.subplot(222)\n",
    "sns.countplot(x='grade', data=lending_club_CS_fully_paid)\n",
    "plt.xlabel('grade_fully_paid')"
   ]
  },
  {
   "cell_type": "markdown",
   "id": "a6ebc3e3",
   "metadata": {},
   "source": [
    "### e)Analyzing Employment Length"
   ]
  },
  {
   "cell_type": "code",
   "execution_count": 230,
   "id": "af754018",
   "metadata": {},
   "outputs": [
    {
     "data": {
      "text/plain": [
       "Text(0.5, 0, 'emp_length_fully_paid')"
      ]
     },
     "execution_count": 230,
     "metadata": {},
     "output_type": "execute_result"
    },
    {
     "data": {
      "image/png": "[encoded data removed]",
      "text/plain": [
       "<Figure size 1080x720 with 2 Axes>"
      ]
     },
     "metadata": {
      "needs_background": "light"
     },
     "output_type": "display_data"
    }
   ],
   "source": [
    "fig, ax = plt.subplots(figsize = (15,10))\n",
    "plt.subplot(221)\n",
    "sns.countplot(x='emp_length', data=lending_club_CS_charged_off)\n",
    "plt.xlabel('emp_length_charged_off')\n",
    "plt.subplot(222)\n",
    "sns.countplot(x='emp_length', data=lending_club_CS_fully_paid)\n",
    "plt.xlabel('emp_length_fully_paid')"
   ]
  },
  {
   "cell_type": "markdown",
   "id": "17dff2f1",
   "metadata": {},
   "source": [
    "#### Some numerical values are made categorical by dividing them into bins and then analyzing them becomes simpler."
   ]
  },
  {
   "cell_type": "code",
   "execution_count": 222,
   "id": "64de55bd",
   "metadata": {},
   "outputs": [],
   "source": [
    "lending_club_CS_charged_off['int_rate_groups'] = pd.cut(lending_club_CS_charged_off['int_rate'], bins=5,precision =0,labels=['5%-9%','9%-13%','13%-17%','17%-21%','21%-24%'])\n",
    "lending_club_CS_charged_off['open_acc_groups'] = pd.cut(lending_club_CS_charged_off['open_acc'],bins = 5,precision =0,labels=['2-10','10-19','19-27','27-36','36-44'])\n",
    "lending_club_CS_charged_off['revol_util_groups'] = pd.cut(lending_club_CS_charged_off['revol_util'], bins=5,precision =0,labels=['0-20','20-40','40-60','60-80','80-100'])\n",
    "lending_club_CS_charged_off['total_acc_groups'] = pd.cut(lending_club_CS_charged_off['total_acc'], bins=5,precision =0,labels=['2-20','20-37','37-55','55-74','74-90'])\n",
    "lending_club_CS_charged_off['annual_inc_groups'] = pd.cut(lending_club_CS_charged_off['annual_inc'], bins=5,precision =0,labels =['3k-31k','31k-58k','58k-85k','85k-112k','112k-140k'])"
   ]
  },
  {
   "cell_type": "code",
   "execution_count": 224,
   "id": "f1ca0d03",
   "metadata": {
    "scrolled": true
   },
   "outputs": [
    {
     "data": {
      "text/html": [
       "<div>\n",
       "<style scoped>\n",
       "    .dataframe tbody tr th:only-of-type {\n",
       "        vertical-align: middle;\n",
       "    }\n",
       "\n",
       "    .dataframe tbody tr th {\n",
       "        vertical-align: top;\n",
       "    }\n",
       "\n",
       "    .dataframe thead th {\n",
       "        text-align: right;\n",
       "    }\n",
       "</style>\n",
       "<table border=\"1\" class=\"dataframe\">\n",
       "  <thead>\n",
       "    <tr style=\"text-align: right;\">\n",
       "      <th></th>\n",
       "      <th>loan_amnt</th>\n",
       "      <th>funded_amnt_inv</th>\n",
       "      <th>term</th>\n",
       "      <th>int_rate</th>\n",
       "      <th>installment</th>\n",
       "      <th>grade</th>\n",
       "      <th>sub_grade</th>\n",
       "      <th>emp_length</th>\n",
       "      <th>home_ownership</th>\n",
       "      <th>annual_inc</th>\n",
       "      <th>...</th>\n",
       "      <th>inq_last_6mths</th>\n",
       "      <th>open_acc</th>\n",
       "      <th>pub_rec</th>\n",
       "      <th>revol_util</th>\n",
       "      <th>total_acc</th>\n",
       "      <th>int_rate_groups</th>\n",
       "      <th>open_acc_groups</th>\n",
       "      <th>revol_util_groups</th>\n",
       "      <th>total_acc_groups</th>\n",
       "      <th>annual_inc_groups</th>\n",
       "    </tr>\n",
       "  </thead>\n",
       "  <tbody>\n",
       "    <tr>\n",
       "      <th>1</th>\n",
       "      <td>2500</td>\n",
       "      <td>2500.0</td>\n",
       "      <td>60 months</td>\n",
       "      <td>15.27</td>\n",
       "      <td>59.83</td>\n",
       "      <td>C</td>\n",
       "      <td>C4</td>\n",
       "      <td>0</td>\n",
       "      <td>RENT</td>\n",
       "      <td>30000.0</td>\n",
       "      <td>...</td>\n",
       "      <td>5</td>\n",
       "      <td>3</td>\n",
       "      <td>0</td>\n",
       "      <td>9.4</td>\n",
       "      <td>4</td>\n",
       "      <td>13%-17%</td>\n",
       "      <td>2-10</td>\n",
       "      <td>0-20</td>\n",
       "      <td>2-20</td>\n",
       "      <td>3k-31k</td>\n",
       "    </tr>\n",
       "    <tr>\n",
       "      <th>8</th>\n",
       "      <td>5600</td>\n",
       "      <td>5600.0</td>\n",
       "      <td>60 months</td>\n",
       "      <td>21.28</td>\n",
       "      <td>152.39</td>\n",
       "      <td>F</td>\n",
       "      <td>F2</td>\n",
       "      <td>4</td>\n",
       "      <td>OWN</td>\n",
       "      <td>40000.0</td>\n",
       "      <td>...</td>\n",
       "      <td>2</td>\n",
       "      <td>11</td>\n",
       "      <td>0</td>\n",
       "      <td>32.6</td>\n",
       "      <td>13</td>\n",
       "      <td>21%-24%</td>\n",
       "      <td>10-19</td>\n",
       "      <td>20-40</td>\n",
       "      <td>2-20</td>\n",
       "      <td>31k-58k</td>\n",
       "    </tr>\n",
       "    <tr>\n",
       "      <th>9</th>\n",
       "      <td>5375</td>\n",
       "      <td>5350.0</td>\n",
       "      <td>60 months</td>\n",
       "      <td>12.69</td>\n",
       "      <td>121.45</td>\n",
       "      <td>B</td>\n",
       "      <td>B5</td>\n",
       "      <td>0</td>\n",
       "      <td>RENT</td>\n",
       "      <td>15000.0</td>\n",
       "      <td>...</td>\n",
       "      <td>0</td>\n",
       "      <td>2</td>\n",
       "      <td>0</td>\n",
       "      <td>36.5</td>\n",
       "      <td>3</td>\n",
       "      <td>9%-13%</td>\n",
       "      <td>2-10</td>\n",
       "      <td>20-40</td>\n",
       "      <td>2-20</td>\n",
       "      <td>3k-31k</td>\n",
       "    </tr>\n",
       "    <tr>\n",
       "      <th>12</th>\n",
       "      <td>9000</td>\n",
       "      <td>9000.0</td>\n",
       "      <td>36 months</td>\n",
       "      <td>13.49</td>\n",
       "      <td>305.38</td>\n",
       "      <td>C</td>\n",
       "      <td>C1</td>\n",
       "      <td>0</td>\n",
       "      <td>RENT</td>\n",
       "      <td>30000.0</td>\n",
       "      <td>...</td>\n",
       "      <td>1</td>\n",
       "      <td>4</td>\n",
       "      <td>0</td>\n",
       "      <td>91.7</td>\n",
       "      <td>9</td>\n",
       "      <td>13%-17%</td>\n",
       "      <td>2-10</td>\n",
       "      <td>80-100</td>\n",
       "      <td>2-20</td>\n",
       "      <td>3k-31k</td>\n",
       "    </tr>\n",
       "    <tr>\n",
       "      <th>14</th>\n",
       "      <td>10000</td>\n",
       "      <td>10000.0</td>\n",
       "      <td>36 months</td>\n",
       "      <td>10.65</td>\n",
       "      <td>325.74</td>\n",
       "      <td>B</td>\n",
       "      <td>B2</td>\n",
       "      <td>3</td>\n",
       "      <td>RENT</td>\n",
       "      <td>100000.0</td>\n",
       "      <td>...</td>\n",
       "      <td>2</td>\n",
       "      <td>14</td>\n",
       "      <td>0</td>\n",
       "      <td>55.5</td>\n",
       "      <td>29</td>\n",
       "      <td>9%-13%</td>\n",
       "      <td>10-19</td>\n",
       "      <td>40-60</td>\n",
       "      <td>20-37</td>\n",
       "      <td>85k-112k</td>\n",
       "    </tr>\n",
       "  </tbody>\n",
       "</table>\n",
       "<p>5 rows × 26 columns</p>\n",
       "</div>"
      ],
      "text/plain": [
       "    loan_amnt  funded_amnt_inv        term  int_rate  installment grade  \\\n",
       "1        2500           2500.0   60 months     15.27        59.83     C   \n",
       "8        5600           5600.0   60 months     21.28       152.39     F   \n",
       "9        5375           5350.0   60 months     12.69       121.45     B   \n",
       "12       9000           9000.0   36 months     13.49       305.38     C   \n",
       "14      10000          10000.0   36 months     10.65       325.74     B   \n",
       "\n",
       "   sub_grade  emp_length home_ownership  annual_inc  ... inq_last_6mths  \\\n",
       "1         C4           0           RENT     30000.0  ...              5   \n",
       "8         F2           4            OWN     40000.0  ...              2   \n",
       "9         B5           0           RENT     15000.0  ...              0   \n",
       "12        C1           0           RENT     30000.0  ...              1   \n",
       "14        B2           3           RENT    100000.0  ...              2   \n",
       "\n",
       "   open_acc pub_rec revol_util  total_acc int_rate_groups  open_acc_groups  \\\n",
       "1         3       0        9.4          4         13%-17%             2-10   \n",
       "8        11       0       32.6         13         21%-24%            10-19   \n",
       "9         2       0       36.5          3          9%-13%             2-10   \n",
       "12        4       0       91.7          9         13%-17%             2-10   \n",
       "14       14       0       55.5         29          9%-13%            10-19   \n",
       "\n",
       "    revol_util_groups  total_acc_groups  annual_inc_groups  \n",
       "1                0-20              2-20             3k-31k  \n",
       "8               20-40              2-20            31k-58k  \n",
       "9               20-40              2-20             3k-31k  \n",
       "12             80-100              2-20             3k-31k  \n",
       "14              40-60             20-37           85k-112k  \n",
       "\n",
       "[5 rows x 26 columns]"
      ]
     },
     "execution_count": 224,
     "metadata": {},
     "output_type": "execute_result"
    }
   ],
   "source": [
    "lending_club_CS_charged_off.head()"
   ]
  },
  {
   "cell_type": "code",
   "execution_count": 223,
   "id": "0635f843",
   "metadata": {},
   "outputs": [],
   "source": [
    "lending_club_CS_fully_paid['int_rate_groups'] = pd.cut(lending_club_CS_fully_paid['int_rate'], bins=5,precision =0,labels=['5%-9%','9%-13%','13%-17%','17%-21%','21%-24%'])\n",
    "lending_club_CS_fully_paid['open_acc_groups'] = pd.cut(lending_club_CS_fully_paid['open_acc'],bins = 5,precision =0,labels=['2-10','10-19','19-27','27-36','36-44'])\n",
    "lending_club_CS_fully_paid['revol_util_groups'] = pd.cut(lending_club_CS_fully_paid['revol_util'], bins=5,precision =0,labels=['0-20','20-40','40-60','60-80','80-100'])\n",
    "lending_club_CS_fully_paid['total_acc_groups'] = pd.cut(lending_club_CS_fully_paid['total_acc'], bins=5,precision =0,labels=['2-20','20-37','37-55','55-74','74-90'])\n",
    "lending_club_CS_fully_paid['annual_inc_groups'] = pd.cut(lending_club_CS_fully_paid['annual_inc'], bins=5,precision =0,labels =['3k-31k','31k-58k','58k-85k','85k-112k','112k-140k'])"
   ]
  },
  {
   "cell_type": "code",
   "execution_count": 225,
   "id": "54ba38a6",
   "metadata": {},
   "outputs": [
    {
     "data": {
      "text/html": [
       "<div>\n",
       "<style scoped>\n",
       "    .dataframe tbody tr th:only-of-type {\n",
       "        vertical-align: middle;\n",
       "    }\n",
       "\n",
       "    .dataframe tbody tr th {\n",
       "        vertical-align: top;\n",
       "    }\n",
       "\n",
       "    .dataframe thead th {\n",
       "        text-align: right;\n",
       "    }\n",
       "</style>\n",
       "<table border=\"1\" class=\"dataframe\">\n",
       "  <thead>\n",
       "    <tr style=\"text-align: right;\">\n",
       "      <th></th>\n",
       "      <th>loan_amnt</th>\n",
       "      <th>funded_amnt_inv</th>\n",
       "      <th>term</th>\n",
       "      <th>int_rate</th>\n",
       "      <th>installment</th>\n",
       "      <th>grade</th>\n",
       "      <th>sub_grade</th>\n",
       "      <th>emp_length</th>\n",
       "      <th>home_ownership</th>\n",
       "      <th>annual_inc</th>\n",
       "      <th>...</th>\n",
       "      <th>inq_last_6mths</th>\n",
       "      <th>open_acc</th>\n",
       "      <th>pub_rec</th>\n",
       "      <th>revol_util</th>\n",
       "      <th>total_acc</th>\n",
       "      <th>int_rate_groups</th>\n",
       "      <th>open_acc_groups</th>\n",
       "      <th>revol_util_groups</th>\n",
       "      <th>total_acc_groups</th>\n",
       "      <th>annual_inc_groups</th>\n",
       "    </tr>\n",
       "  </thead>\n",
       "  <tbody>\n",
       "    <tr>\n",
       "      <th>0</th>\n",
       "      <td>5000</td>\n",
       "      <td>4975.0</td>\n",
       "      <td>36 months</td>\n",
       "      <td>10.65</td>\n",
       "      <td>162.87</td>\n",
       "      <td>B</td>\n",
       "      <td>B2</td>\n",
       "      <td>10</td>\n",
       "      <td>RENT</td>\n",
       "      <td>24000.0</td>\n",
       "      <td>...</td>\n",
       "      <td>1</td>\n",
       "      <td>3</td>\n",
       "      <td>0</td>\n",
       "      <td>83.7</td>\n",
       "      <td>9</td>\n",
       "      <td>9%-13%</td>\n",
       "      <td>2-10</td>\n",
       "      <td>80-100</td>\n",
       "      <td>2-20</td>\n",
       "      <td>3k-31k</td>\n",
       "    </tr>\n",
       "    <tr>\n",
       "      <th>2</th>\n",
       "      <td>2400</td>\n",
       "      <td>2400.0</td>\n",
       "      <td>36 months</td>\n",
       "      <td>15.96</td>\n",
       "      <td>84.33</td>\n",
       "      <td>C</td>\n",
       "      <td>C5</td>\n",
       "      <td>10</td>\n",
       "      <td>RENT</td>\n",
       "      <td>12252.0</td>\n",
       "      <td>...</td>\n",
       "      <td>2</td>\n",
       "      <td>2</td>\n",
       "      <td>0</td>\n",
       "      <td>98.5</td>\n",
       "      <td>10</td>\n",
       "      <td>13%-17%</td>\n",
       "      <td>2-10</td>\n",
       "      <td>80-100</td>\n",
       "      <td>2-20</td>\n",
       "      <td>3k-31k</td>\n",
       "    </tr>\n",
       "    <tr>\n",
       "      <th>3</th>\n",
       "      <td>10000</td>\n",
       "      <td>10000.0</td>\n",
       "      <td>36 months</td>\n",
       "      <td>13.49</td>\n",
       "      <td>339.31</td>\n",
       "      <td>C</td>\n",
       "      <td>C1</td>\n",
       "      <td>10</td>\n",
       "      <td>RENT</td>\n",
       "      <td>49200.0</td>\n",
       "      <td>...</td>\n",
       "      <td>1</td>\n",
       "      <td>10</td>\n",
       "      <td>0</td>\n",
       "      <td>21.0</td>\n",
       "      <td>37</td>\n",
       "      <td>13%-17%</td>\n",
       "      <td>2-10</td>\n",
       "      <td>20-40</td>\n",
       "      <td>20-37</td>\n",
       "      <td>31k-58k</td>\n",
       "    </tr>\n",
       "    <tr>\n",
       "      <th>5</th>\n",
       "      <td>5000</td>\n",
       "      <td>5000.0</td>\n",
       "      <td>36 months</td>\n",
       "      <td>7.90</td>\n",
       "      <td>156.46</td>\n",
       "      <td>A</td>\n",
       "      <td>A4</td>\n",
       "      <td>3</td>\n",
       "      <td>RENT</td>\n",
       "      <td>36000.0</td>\n",
       "      <td>...</td>\n",
       "      <td>3</td>\n",
       "      <td>9</td>\n",
       "      <td>0</td>\n",
       "      <td>28.3</td>\n",
       "      <td>12</td>\n",
       "      <td>5%-9%</td>\n",
       "      <td>2-10</td>\n",
       "      <td>20-40</td>\n",
       "      <td>2-20</td>\n",
       "      <td>31k-58k</td>\n",
       "    </tr>\n",
       "    <tr>\n",
       "      <th>6</th>\n",
       "      <td>7000</td>\n",
       "      <td>7000.0</td>\n",
       "      <td>60 months</td>\n",
       "      <td>15.96</td>\n",
       "      <td>170.08</td>\n",
       "      <td>C</td>\n",
       "      <td>C5</td>\n",
       "      <td>8</td>\n",
       "      <td>RENT</td>\n",
       "      <td>47004.0</td>\n",
       "      <td>...</td>\n",
       "      <td>1</td>\n",
       "      <td>7</td>\n",
       "      <td>0</td>\n",
       "      <td>85.6</td>\n",
       "      <td>11</td>\n",
       "      <td>13%-17%</td>\n",
       "      <td>2-10</td>\n",
       "      <td>80-100</td>\n",
       "      <td>2-20</td>\n",
       "      <td>31k-58k</td>\n",
       "    </tr>\n",
       "  </tbody>\n",
       "</table>\n",
       "<p>5 rows × 26 columns</p>\n",
       "</div>"
      ],
      "text/plain": [
       "   loan_amnt  funded_amnt_inv        term  int_rate  installment grade  \\\n",
       "0       5000           4975.0   36 months     10.65       162.87     B   \n",
       "2       2400           2400.0   36 months     15.96        84.33     C   \n",
       "3      10000          10000.0   36 months     13.49       339.31     C   \n",
       "5       5000           5000.0   36 months      7.90       156.46     A   \n",
       "6       7000           7000.0   60 months     15.96       170.08     C   \n",
       "\n",
       "  sub_grade  emp_length home_ownership  annual_inc  ... inq_last_6mths  \\\n",
       "0        B2          10           RENT     24000.0  ...              1   \n",
       "2        C5          10           RENT     12252.0  ...              2   \n",
       "3        C1          10           RENT     49200.0  ...              1   \n",
       "5        A4           3           RENT     36000.0  ...              3   \n",
       "6        C5           8           RENT     47004.0  ...              1   \n",
       "\n",
       "  open_acc pub_rec revol_util  total_acc int_rate_groups  open_acc_groups  \\\n",
       "0        3       0       83.7          9          9%-13%             2-10   \n",
       "2        2       0       98.5         10         13%-17%             2-10   \n",
       "3       10       0       21.0         37         13%-17%             2-10   \n",
       "5        9       0       28.3         12           5%-9%             2-10   \n",
       "6        7       0       85.6         11         13%-17%             2-10   \n",
       "\n",
       "   revol_util_groups  total_acc_groups  annual_inc_groups  \n",
       "0             80-100              2-20             3k-31k  \n",
       "2             80-100              2-20             3k-31k  \n",
       "3              20-40             20-37            31k-58k  \n",
       "5              20-40              2-20            31k-58k  \n",
       "6             80-100              2-20            31k-58k  \n",
       "\n",
       "[5 rows x 26 columns]"
      ]
     },
     "execution_count": 225,
     "metadata": {},
     "output_type": "execute_result"
    }
   ],
   "source": [
    "lending_club_CS_fully_paid.head()"
   ]
  },
  {
   "cell_type": "markdown",
   "id": "5e01bcaf",
   "metadata": {},
   "source": [
    "### f)Analyzing Interest Rate"
   ]
  },
  {
   "cell_type": "code",
   "execution_count": 231,
   "id": "0012926d",
   "metadata": {},
   "outputs": [
    {
     "data": {
      "text/plain": [
       "Text(0.5, 0, 'int_rate_fully_paid')"
      ]
     },
     "execution_count": 231,
     "metadata": {},
     "output_type": "execute_result"
    },
    {
     "data": {
      "image/png": "[encoded data removed]",
      "text/plain": [
       "<Figure size 1080x720 with 2 Axes>"
      ]
     },
     "metadata": {
      "needs_background": "light"
     },
     "output_type": "display_data"
    }
   ],
   "source": [
    "fig, ax = plt.subplots(figsize = (15,10))\n",
    "plt.subplot(221)\n",
    "sns.countplot(x='int_rate_groups', data=lending_club_CS_charged_off)\n",
    "plt.xlabel('int_rate_charged_off')\n",
    "plt.subplot(222)\n",
    "sns.countplot(x='int_rate_groups', data=lending_club_CS_fully_paid)\n",
    "plt.xlabel('int_rate_fully_paid')"
   ]
  },
  {
   "cell_type": "markdown",
   "id": "ae734c72",
   "metadata": {},
   "source": [
    "### g)Analyzing Open Accounts"
   ]
  },
  {
   "cell_type": "code",
   "execution_count": 232,
   "id": "5592de05",
   "metadata": {},
   "outputs": [
    {
     "data": {
      "text/plain": [
       "Text(0.5, 0, 'open_acc_fully_paid')"
      ]
     },
     "execution_count": 232,
     "metadata": {},
     "output_type": "execute_result"
    },
    {
     "data": {
      "image/png": "[encoded data removed]",
      "text/plain": [
       "<Figure size 1080x720 with 2 Axes>"
      ]
     },
     "metadata": {
      "needs_background": "light"
     },
     "output_type": "display_data"
    }
   ],
   "source": [
    "fig, ax = plt.subplots(figsize = (15,10))\n",
    "plt.subplot(221)\n",
    "sns.countplot(x='open_acc_groups', data=lending_club_CS_charged_off)\n",
    "plt.xlabel('open_acc_charged_off')\n",
    "plt.subplot(222)\n",
    "sns.countplot(x='open_acc_groups', data=lending_club_CS_fully_paid)\n",
    "plt.xlabel('open_acc_fully_paid')"
   ]
  },
  {
   "cell_type": "markdown",
   "id": "e1ce2749",
   "metadata": {},
   "source": [
    "### h)Analyzing Revol Util"
   ]
  },
  {
   "cell_type": "code",
   "execution_count": 233,
   "id": "182d3273",
   "metadata": {},
   "outputs": [
    {
     "data": {
      "text/plain": [
       "Text(0.5, 0, 'revol_util_fully_paid')"
      ]
     },
     "execution_count": 233,
     "metadata": {},
     "output_type": "execute_result"
    },
    {
     "data": {
      "image/png": "[encoded data removed]",
      "text/plain": [
       "<Figure size 1080x720 with 2 Axes>"
      ]
     },
     "metadata": {
      "needs_background": "light"
     },
     "output_type": "display_data"
    }
   ],
   "source": [
    "fig, ax = plt.subplots(figsize = (15,10))\n",
    "plt.subplot(221)\n",
    "sns.countplot(x='revol_util_groups', data=lending_club_CS_charged_off)\n",
    "plt.xlabel('revol_util_charged_off')\n",
    "plt.subplot(222)\n",
    "sns.countplot(x='revol_util_groups', data=lending_club_CS_fully_paid)\n",
    "plt.xlabel('revol_util_fully_paid')"
   ]
  },
  {
   "cell_type": "markdown",
   "id": "52dcb47f",
   "metadata": {},
   "source": [
    "### i)Analyzing Total Accounts"
   ]
  },
  {
   "cell_type": "code",
   "execution_count": 234,
   "id": "7375a83a",
   "metadata": {},
   "outputs": [
    {
     "data": {
      "text/plain": [
       "Text(0.5, 0, 'total_acc_fully_paid')"
      ]
     },
     "execution_count": 234,
     "metadata": {},
     "output_type": "execute_result"
    },
    {
     "data": {
      "image/png": "[encoded data removed]",
      "text/plain": [
       "<Figure size 1080x720 with 2 Axes>"
      ]
     },
     "metadata": {
      "needs_background": "light"
     },
     "output_type": "display_data"
    }
   ],
   "source": [
    "fig, ax = plt.subplots(figsize = (15,10))\n",
    "plt.subplot(221)\n",
    "sns.countplot(x='total_acc_groups', data=lending_club_CS_charged_off)\n",
    "plt.xlabel('total_acc_charged_off')\n",
    "plt.subplot(222)\n",
    "sns.countplot(x='total_acc_groups', data=lending_club_CS_fully_paid)\n",
    "plt.xlabel('total_acc_fully_paid')"
   ]
  },
  {
   "cell_type": "markdown",
   "id": "c20f1037",
   "metadata": {},
   "source": [
    "### j) Analyzing Annual Income"
   ]
  },
  {
   "cell_type": "code",
   "execution_count": 235,
   "id": "48641747",
   "metadata": {},
   "outputs": [
    {
     "data": {
      "text/plain": [
       "Text(0.5, 0, 'annual_inc_fully_paid')"
      ]
     },
     "execution_count": 235,
     "metadata": {},
     "output_type": "execute_result"
    },
    {
     "data": {
      "image/png": "[encoded data removed]",
      "text/plain": [
       "<Figure size 1080x720 with 2 Axes>"
      ]
     },
     "metadata": {
      "needs_background": "light"
     },
     "output_type": "display_data"
    }
   ],
   "source": [
    "fig, ax = plt.subplots(figsize = (15,10))\n",
    "plt.subplot(221)\n",
    "sns.countplot(x='annual_inc_groups', data=lending_club_CS_charged_off)\n",
    "plt.xlabel('annual_inc_charged_off')\n",
    "plt.subplot(222)\n",
    "sns.countplot(x='annual_inc_groups', data=lending_club_CS_fully_paid)\n",
    "plt.xlabel('annual_inc_fully_paid')"
   ]
  },
  {
   "cell_type": "markdown",
   "id": "d90d7311",
   "metadata": {},
   "source": [
    "### k) Analyzing Inquiry in last 6 months (inq_last_6mths)"
   ]
  },
  {
   "cell_type": "code",
   "execution_count": 236,
   "id": "72ab7176",
   "metadata": {},
   "outputs": [
    {
     "data": {
      "text/plain": [
       "Text(0.5, 0, 'inq_last_6mths_fully_paid')"
      ]
     },
     "execution_count": 236,
     "metadata": {},
     "output_type": "execute_result"
    },
    {
     "data": {
      "image/png": "[encoded data removed]",
      "text/plain": [
       "<Figure size 1080x720 with 2 Axes>"
      ]
     },
     "metadata": {
      "needs_background": "light"
     },
     "output_type": "display_data"
    }
   ],
   "source": [
    "fig, ax = plt.subplots(figsize = (15,10))\n",
    "plt.subplot(221)\n",
    "sns.countplot(x='inq_last_6mths', data=lending_club_CS_charged_off)\n",
    "plt.xlabel('inq_last_6mths_charged_off')\n",
    "plt.subplot(222)\n",
    "sns.countplot(x='inq_last_6mths', data=lending_club_CS_fully_paid)\n",
    "plt.xlabel('inq_last_6mths_fully_paid')"
   ]
  },
  {
   "cell_type": "markdown",
   "id": "8691129f",
   "metadata": {},
   "source": [
    "### l) Analyzing Public Records Count"
   ]
  },
  {
   "cell_type": "code",
   "execution_count": 237,
   "id": "542af329",
   "metadata": {},
   "outputs": [
    {
     "data": {
      "text/plain": [
       "Text(0.5, 0, 'pub_rec_fully_paid')"
      ]
     },
     "execution_count": 237,
     "metadata": {},
     "output_type": "execute_result"
    },
    {
     "data": {
      "image/png": "[encoded data removed]",
      "text/plain": [
       "<Figure size 1080x720 with 2 Axes>"
      ]
     },
     "metadata": {
      "needs_background": "light"
     },
     "output_type": "display_data"
    }
   ],
   "source": [
    "fig, ax = plt.subplots(figsize = (15,10))\n",
    "plt.subplot(221)\n",
    "sns.countplot(x='pub_rec', data=lending_club_CS_charged_off)\n",
    "plt.xlabel('pub_rec_charged_off')\n",
    "plt.subplot(222)\n",
    "sns.countplot(x='pub_rec', data=lending_club_CS_fully_paid)\n",
    "plt.xlabel('pub_rec_fully_paid')"
   ]
  },
  {
   "cell_type": "markdown",
   "id": "f791275b",
   "metadata": {},
   "source": [
    "### m) Analyzing by issue date (issue_d)\n",
    "•\tWe need to create two new columns ‘issue_month’ and ‘issue_year’ for both the date frames.                \n",
    "•\tThen we analyse the data plotting them in countplot\n"
   ]
  },
  {
   "cell_type": "code",
   "execution_count": 250,
   "id": "88d77379",
   "metadata": {},
   "outputs": [],
   "source": [
    "lending_club_CS_charged_off['issue_month'] = lending_club_CS_charged_off['issue_d'].apply(lambda x: x.split('-')[0])\n",
    "lending_club_CS_charged_off['issue_year'] = '20' + lending_club_CS_charged_off['issue_d'].apply(lambda x: x.split('-')[-1])"
   ]
  },
  {
   "cell_type": "code",
   "execution_count": 248,
   "id": "c8b89221",
   "metadata": {},
   "outputs": [],
   "source": [
    "lending_club_CS_fully_paid['issue_month'] = lending_club_CS_fully_paid['issue_d'].apply(lambda x: x.split('-')[0])\n",
    "lending_club_CS_fully_paid['issue_year'] = '20' + lending_club_CS_fully_paid['issue_d'].apply(lambda x: x.split('-')[-1])"
   ]
  },
  {
   "cell_type": "code",
   "execution_count": 251,
   "id": "81bef9bb",
   "metadata": {},
   "outputs": [
    {
     "data": {
      "text/plain": [
       "Text(0.5, 0, 'issue_month_fully_paid')"
      ]
     },
     "execution_count": 251,
     "metadata": {},
     "output_type": "execute_result"
    },
    {
     "data": {
      "image/png": "[encoded data removed]",
      "text/plain": [
       "<Figure size 1080x720 with 2 Axes>"
      ]
     },
     "metadata": {
      "needs_background": "light"
     },
     "output_type": "display_data"
    }
   ],
   "source": [
    "fig, ax = plt.subplots(figsize = (15,10))\n",
    "plt.subplot(221)\n",
    "sns.countplot(x='issue_month', data=lending_club_CS_charged_off)\n",
    "plt.xlabel('issue_month_charged_off')\n",
    "plt.subplot(222)\n",
    "sns.countplot(x='issue_month', data=lending_club_CS_fully_paid)\n",
    "plt.xlabel('issue_month_fully_paid')"
   ]
  },
  {
   "cell_type": "code",
   "execution_count": 252,
   "id": "e1808e41",
   "metadata": {},
   "outputs": [
    {
     "data": {
      "text/plain": [
       "Text(0.5, 0, 'issue_year_fully_paid')"
      ]
     },
     "execution_count": 252,
     "metadata": {},
     "output_type": "execute_result"
    },
    {
     "data": {
      "image/png": "[encoded data removed]",
      "text/plain": [
       "<Figure size 1080x720 with 2 Axes>"
      ]
     },
     "metadata": {
      "needs_background": "light"
     },
     "output_type": "display_data"
    }
   ],
   "source": [
    "fig, ax = plt.subplots(figsize = (15,10))\n",
    "plt.subplot(221)\n",
    "sns.countplot(x='issue_year', data=lending_club_CS_charged_off)\n",
    "plt.xlabel('issue_year_charged_off')\n",
    "plt.subplot(222)\n",
    "sns.countplot(x='issue_year', data=lending_club_CS_fully_paid)\n",
    "plt.xlabel('issue_year_fully_paid')"
   ]
  },
  {
   "cell_type": "markdown",
   "id": "b30f5dba",
   "metadata": {},
   "source": [
    "#### Some numerical values are made categorical by dividing them into bins and then analyzing them becomes simpler.\n",
    "•\tinstallment                                                                                                \n",
    "•\tfunded_amnt_inv                                                                                             \n",
    "•\tloan_amnt                                                                                                    \n",
    "•\tdti                                     \n"
   ]
  },
  {
   "cell_type": "code",
   "execution_count": 253,
   "id": "e7eb9623",
   "metadata": {},
   "outputs": [],
   "source": [
    "lending_club_CS_charged_off['installment_groups'] = pd.cut(lending_club_CS_charged_off['installment'], bins=10,precision =0,labels=['14-145','145-274','274-403','403-531','531-660','660-789','789-918','918-1047','1047-1176','1176-1305'])\n",
    "lending_club_CS_charged_off['funded_amnt_inv_group'] = pd.cut(lending_club_CS_charged_off['funded_amnt_inv'], bins=7,labels=['0-5k','5k-10k','10k-15k','15k-20k','20k-25k','25k-30k','30k-35k']) \n",
    "lending_club_CS_charged_off['loan_amnt_groups'] = pd.cut(lending_club_CS_charged_off['loan_amnt'], bins=7,precision =0,labels=['0-5k','5k-10k','10k-15k','15k-20k','20k-25k','25k-30k','30k-35k'])\n",
    "lending_club_CS_charged_off['dti_groups'] = pd.cut(lending_club_CS_charged_off['dti'], bins=5,precision =0,labels=['0-6','6-12','12-18','18-24','24-30'])"
   ]
  },
  {
   "cell_type": "code",
   "execution_count": 254,
   "id": "5943daa5",
   "metadata": {},
   "outputs": [],
   "source": [
    "lending_club_CS_fully_paid['installment_groups'] = pd.cut(lending_club_CS_fully_paid['installment'], bins=10,precision =0,labels=['14-145','145-274','274-403','403-531','531-660','660-789','789-918','918-1047','1047-1176','1176-1305'])\n",
    "lending_club_CS_fully_paid['funded_amnt_inv_group'] = pd.cut(lending_club_CS_fully_paid['funded_amnt_inv'], bins=7,labels=['0-5k','5k-10k','10k-15k','15k-20k','20k-25k','25k-30k','30k-35k']) \n",
    "lending_club_CS_fully_paid['loan_amnt_groups'] = pd.cut(lending_club_CS_fully_paid['loan_amnt'], bins=7,precision =0,labels=['0-5k','5k-10k','10k-15k','15k-20k','20k-25k','25k-30k','30k-35k'])\n",
    "lending_club_CS_fully_paid['dti_groups'] = pd.cut(lending_club_CS_fully_paid['dti'], bins=5,precision =0,labels=['0-6','6-12','12-18','18-24','24-30'])"
   ]
  },
  {
   "cell_type": "markdown",
   "id": "80dc3ac1",
   "metadata": {},
   "source": [
    "### n) Analyzing installment"
   ]
  },
  {
   "cell_type": "code",
   "execution_count": 256,
   "id": "547a44d6",
   "metadata": {},
   "outputs": [
    {
     "data": {
      "text/plain": [
       "Text(0.5, 0, 'installment_groups_fully_paid')"
      ]
     },
     "execution_count": 256,
     "metadata": {},
     "output_type": "execute_result"
    },
    {
     "data": {
      "image/png": "[encoded data removed]",
      "text/plain": [
       "<Figure size 1080x720 with 2 Axes>"
      ]
     },
     "metadata": {
      "needs_background": "light"
     },
     "output_type": "display_data"
    }
   ],
   "source": [
    "fig, ax = plt.subplots(figsize = (15,10))\n",
    "plt.subplot(221)\n",
    "sns.countplot(y='installment_groups', data=lending_club_CS_charged_off)\n",
    "plt.xlabel('installment_groups_charged_off')\n",
    "plt.subplot(222)\n",
    "sns.countplot(y='installment_groups', data=lending_club_CS_fully_paid)\n",
    "plt.xlabel('installment_groups_fully_paid')"
   ]
  },
  {
   "cell_type": "markdown",
   "id": "142bc0ff",
   "metadata": {},
   "source": [
    "### o) Analyzing funded_amnt_inv"
   ]
  },
  {
   "cell_type": "code",
   "execution_count": 257,
   "id": "39c59283",
   "metadata": {},
   "outputs": [
    {
     "data": {
      "text/plain": [
       "Text(0.5, 0, 'funded_amnt_inv_group_fully_paid')"
      ]
     },
     "execution_count": 257,
     "metadata": {},
     "output_type": "execute_result"
    },
    {
     "data": {
      "image/png": "[encoded data removed]",
      "text/plain": [
       "<Figure size 1080x720 with 2 Axes>"
      ]
     },
     "metadata": {
      "needs_background": "light"
     },
     "output_type": "display_data"
    }
   ],
   "source": [
    "fig, ax = plt.subplots(figsize = (15,10))\n",
    "plt.subplot(221)\n",
    "sns.countplot(y='funded_amnt_inv_group', data=lending_club_CS_charged_off)\n",
    "plt.xlabel('funded_amnt_inv_group_charged_off')\n",
    "plt.subplot(222)\n",
    "sns.countplot(y='funded_amnt_inv_group', data=lending_club_CS_fully_paid)\n",
    "plt.xlabel('funded_amnt_inv_group_fully_paid')"
   ]
  },
  {
   "cell_type": "markdown",
   "id": "ac27b32e",
   "metadata": {},
   "source": [
    "### p) Analyzing Loan amount"
   ]
  },
  {
   "cell_type": "code",
   "execution_count": 258,
   "id": "f8b5766c",
   "metadata": {},
   "outputs": [
    {
     "data": {
      "text/plain": [
       "Text(0.5, 0, 'loan_amnt_groups_fully_paid')"
      ]
     },
     "execution_count": 258,
     "metadata": {},
     "output_type": "execute_result"
    },
    {
     "data": {
      "image/png": "[encoded data removed]",
      "text/plain": [
       "<Figure size 1080x720 with 2 Axes>"
      ]
     },
     "metadata": {
      "needs_background": "light"
     },
     "output_type": "display_data"
    }
   ],
   "source": [
    "fig, ax = plt.subplots(figsize = (15,10))\n",
    "plt.subplot(221)\n",
    "sns.countplot(y='loan_amnt_groups', data=lending_club_CS_charged_off)\n",
    "plt.xlabel('loan_amnt_groups_charged_off')\n",
    "plt.subplot(222)\n",
    "sns.countplot(y='loan_amnt_groups', data=lending_club_CS_fully_paid)\n",
    "plt.xlabel('loan_amnt_groups_fully_paid')"
   ]
  },
  {
   "cell_type": "markdown",
   "id": "16e78df6",
   "metadata": {},
   "source": [
    "### q) Analyzing dti"
   ]
  },
  {
   "cell_type": "code",
   "execution_count": 259,
   "id": "dd1bf691",
   "metadata": {
    "scrolled": true
   },
   "outputs": [
    {
     "data": {
      "text/plain": [
       "Text(0.5, 0, 'dti_groups_fully_paid')"
      ]
     },
     "execution_count": 259,
     "metadata": {},
     "output_type": "execute_result"
    },
    {
     "data": {
      "image/png": "[encoded data removed]",
      "text/plain": [
       "<Figure size 1080x720 with 2 Axes>"
      ]
     },
     "metadata": {
      "needs_background": "light"
     },
     "output_type": "display_data"
    }
   ],
   "source": [
    "fig, ax = plt.subplots(figsize = (15,10))\n",
    "plt.subplot(221)\n",
    "sns.countplot(y='dti_groups', data=lending_club_CS_charged_off)\n",
    "plt.xlabel('dti_groups_charged_off')\n",
    "plt.subplot(222)\n",
    "sns.countplot(y='dti_groups', data=lending_club_CS_fully_paid)\n",
    "plt.xlabel('dti_groups_fully_paid')"
   ]
  },
  {
   "cell_type": "markdown",
   "id": "8fda1f30",
   "metadata": {},
   "source": [
    "## Observations from Categorial Data Analysis \n",
    "On comparing between applicants who have defaulted & applicants who have fully paid their loan below categories shows a higher trend of defaulting their loans:-\n",
    "1.\tThe applicants who mostly are on rent .\n",
    "2.\tMostly the ‘B , C’ grade applicants.\n",
    "3.\tThe applicants who are charged 13-17% of interest rate .\n",
    "4.\tRevol_Util for applicants between range 60-80 .\n",
    "5.\tLoan applications mostly in Dec and 2011\n",
    "6.\tFunded amount invested is between 5k-10k\n"
   ]
  },
  {
   "cell_type": "markdown",
   "id": "9e3c1ffa",
   "metadata": {},
   "source": [
    "Also below are some trend which is visible both for defaulters and full paid applicants so there is no much concluding significance to note from them:-\n",
    "1.\tThe applicants who mostly apply for loan for debt consolidation.\n",
    "2.\tApplicants having <=10 yrs. of employment length \n",
    "3.\tThe verification status is not verified \n",
    "4.\tOpen account 2-10\n",
    "5.\tAnnual income 31k – 58k\n",
    "6.\tDti between 12-18"
   ]
  },
  {
   "cell_type": "markdown",
   "id": "e30b842f",
   "metadata": {},
   "source": [
    "#### Annual Income vs Home Ownership"
   ]
  },
  {
   "cell_type": "code",
   "execution_count": 299,
   "id": "fea42dda",
   "metadata": {},
   "outputs": [
    {
     "data": {
      "text/plain": [
       "Text(0.5, 0, 'annual_inc vs home_ownership')"
      ]
     },
     "execution_count": 299,
     "metadata": {},
     "output_type": "execute_result"
    },
    {
     "data": {
      "image/png": "[encoded data removed]",
      "text/plain": [
       "<Figure size 720x720 with 1 Axes>"
      ]
     },
     "metadata": {
      "needs_background": "light"
     },
     "output_type": "display_data"
    }
   ],
   "source": [
    "plt.figure(figsize=(10,10))\n",
    "sns.barplot(data =lending_club_CS,x='annual_inc', y='home_ownership', hue ='loan_status',palette=\"Blues_d\")\n",
    "plt.xlabel('annual_inc vs home_ownership')\n"
   ]
  },
  {
   "cell_type": "markdown",
   "id": "23ea21f7",
   "metadata": {},
   "source": [
    "#### Annual Income vs Loan Purpose"
   ]
  },
  {
   "cell_type": "code",
   "execution_count": 304,
   "id": "295ef86a",
   "metadata": {},
   "outputs": [
    {
     "data": {
      "text/plain": [
       "Text(0.5, 0, 'annual_inc vs purpose')"
      ]
     },
     "execution_count": 304,
     "metadata": {},
     "output_type": "execute_result"
    },
    {
     "data": {
      "image/png": "[encoded data removed]",
      "text/plain": [
       "<Figure size 720x720 with 1 Axes>"
      ]
     },
     "metadata": {
      "needs_background": "light"
     },
     "output_type": "display_data"
    }
   ],
   "source": [
    "plt.figure(figsize=(10,10))\n",
    "sns.barplot(data =lending_club_CS,x='annual_inc', y='purpose', hue ='loan_status',palette=\"Blues_d\")\n",
    "plt.xlabel('annual_inc vs purpose')"
   ]
  },
  {
   "cell_type": "markdown",
   "id": "9101e298",
   "metadata": {},
   "source": [
    "#### Annual Income vs Loan Amount"
   ]
  },
  {
   "cell_type": "code",
   "execution_count": 296,
   "id": "07a215ed",
   "metadata": {},
   "outputs": [],
   "source": [
    "lending_club_CS['annual_inc_groups'] = pd.cut(lending_club_CS['annual_inc'], bins=5,precision =0,labels =['3k-31k','31k-58k','58k-85k','85k-112k','112k-140k'])"
   ]
  },
  {
   "cell_type": "code",
   "execution_count": 329,
   "id": "02ea8cb4",
   "metadata": {},
   "outputs": [
    {
     "data": {
      "text/plain": [
       "Text(0.5, 0, 'annual_inc vs loan_amnt')"
      ]
     },
     "execution_count": 329,
     "metadata": {},
     "output_type": "execute_result"
    },
    {
     "data": {
      "image/png": "[encoded data removed]",
      "text/plain": [
       "<Figure size 720x720 with 1 Axes>"
      ]
     },
     "metadata": {
      "needs_background": "light"
     },
     "output_type": "display_data"
    }
   ],
   "source": [
    "fig, ax = plt.subplots(figsize = (10,10))\n",
    "sns.barplot(data =lending_club_CS,x='annual_inc_groups', y='loan_amnt', hue ='loan_status')\n",
    "plt.xlabel('annual_inc vs loan_amnt')"
   ]
  },
  {
   "cell_type": "markdown",
   "id": "88e61537",
   "metadata": {},
   "source": [
    "#### Annual Income vs Interest Rate"
   ]
  },
  {
   "cell_type": "code",
   "execution_count": 291,
   "id": "d7bbd1bb",
   "metadata": {},
   "outputs": [],
   "source": [
    "lending_club_CS['int_rate_groups'] = pd.cut(lending_club_CS['int_rate'], bins=5,precision =0,labels=['5%-9%','9%-13%','13%-17%','17%-21%','21%-24%'])"
   ]
  },
  {
   "cell_type": "code",
   "execution_count": 295,
   "id": "492eaa41",
   "metadata": {},
   "outputs": [
    {
     "data": {
      "text/plain": [
       "Text(0.5, 0, 'annual_inc vs int_rate_groups ')"
      ]
     },
     "execution_count": 295,
     "metadata": {},
     "output_type": "execute_result"
    },
    {
     "data": {
      "image/png": "[encoded data removed]",
      "text/plain": [
       "<Figure size 720x720 with 1 Axes>"
      ]
     },
     "metadata": {
      "needs_background": "light"
     },
     "output_type": "display_data"
    }
   ],
   "source": [
    "fig, ax = plt.subplots(figsize = (10,10))\n",
    "sns.barplot(data =lending_club_CS,x='annual_inc', y='int_rate_groups', hue ='loan_status')\n",
    "plt.xlabel('annual_inc vs int_rate_groups ')\n"
   ]
  },
  {
   "cell_type": "markdown",
   "id": "58b0b5c0",
   "metadata": {},
   "source": [
    "#### Loan Amount vs Interest Rate"
   ]
  },
  {
   "cell_type": "code",
   "execution_count": 306,
   "id": "6611b406",
   "metadata": {},
   "outputs": [],
   "source": [
    "lending_club_CS['loan_amnt_groups'] = pd.cut(lending_club_CS['loan_amnt'], bins=7,precision =0,labels=['0-5k','5k-10k','10k-15k','15k-20k','20k-25k','25k-30k','30k-35k'])"
   ]
  },
  {
   "cell_type": "code",
   "execution_count": 307,
   "id": "b9d0e2f4",
   "metadata": {},
   "outputs": [
    {
     "data": {
      "image/png": "[encoded data removed]",
      "text/plain": [
       "<Figure size 720x720 with 1 Axes>"
      ]
     },
     "metadata": {
      "needs_background": "light"
     },
     "output_type": "display_data"
    }
   ],
   "source": [
    "plt.figure(figsize=(10,10))\n",
    "sns.barplot(data =lending_club_CS,x='loan_amnt_groups', y='int_rate', hue ='loan_status',palette=\"pastel\")\n",
    "plt.show()"
   ]
  },
  {
   "cell_type": "markdown",
   "id": "8b2e2a60",
   "metadata": {},
   "source": [
    "#### Loan amount vs Loan Purpose"
   ]
  },
  {
   "cell_type": "code",
   "execution_count": 309,
   "id": "8523436d",
   "metadata": {},
   "outputs": [
    {
     "data": {
      "image/png": "[encoded data removed]",
      "text/plain": [
       "<Figure size 720x720 with 1 Axes>"
      ]
     },
     "metadata": {
      "needs_background": "light"
     },
     "output_type": "display_data"
    }
   ],
   "source": [
    "plt.figure(figsize=(10,10))\n",
    "sns.barplot(data =lending_club_CS,x='loan_amnt', y='purpose', hue ='loan_status',palette=\"pastel\")\n",
    "plt.show()"
   ]
  },
  {
   "cell_type": "markdown",
   "id": "097047b6",
   "metadata": {},
   "source": [
    "#### Loan amount vs Home Ownership"
   ]
  },
  {
   "cell_type": "code",
   "execution_count": 310,
   "id": "5ab22d04",
   "metadata": {},
   "outputs": [
    {
     "data": {
      "image/png": "[encoded data removed]",
      "text/plain": [
       "<Figure size 720x720 with 1 Axes>"
      ]
     },
     "metadata": {
      "needs_background": "light"
     },
     "output_type": "display_data"
    }
   ],
   "source": [
    "plt.figure(figsize=(10,10))\n",
    "sns.barplot(data =lending_club_CS,x='loan_amnt', y='home_ownership', hue ='loan_status',palette=\"pastel\")\n",
    "plt.show()"
   ]
  },
  {
   "cell_type": "markdown",
   "id": "f2cad370",
   "metadata": {},
   "source": [
    "#### Loan amount vs Month Issued "
   ]
  },
  {
   "cell_type": "code",
   "execution_count": 311,
   "id": "b99eb545",
   "metadata": {},
   "outputs": [],
   "source": [
    "lending_club_CS['issue_month'] = lending_club_CS['issue_d'].apply(lambda x: x.split('-')[0])\n",
    "lending_club_CS['issue_year'] = '20' + lending_club_CS['issue_d'].apply(lambda x: x.split('-')[-1])"
   ]
  },
  {
   "cell_type": "code",
   "execution_count": 335,
   "id": "59c369a2",
   "metadata": {},
   "outputs": [
    {
     "data": {
      "text/plain": [
       "Text(0.5, 0, 'Loan Amount vs Issue Year')"
      ]
     },
     "execution_count": 335,
     "metadata": {},
     "output_type": "execute_result"
    },
    {
     "data": {
      "image/png": "[encoded data removed]",
      "text/plain": [
       "<Figure size 1080x720 with 2 Axes>"
      ]
     },
     "metadata": {
      "needs_background": "light"
     },
     "output_type": "display_data"
    }
   ],
   "source": [
    "fig, ax = plt.subplots(figsize = (15,10))\n",
    "plt.subplot(221)\n",
    "sns.barplot(data =lending_club_CS,x='loan_amnt', y='issue_month', hue ='loan_status')\n",
    "plt.xlabel('Loan Amount vs Issue Month')\n",
    "plt.subplot(222)\n",
    "sns.barplot(data =lending_club_CS,x='loan_amnt', y='issue_year', hue ='loan_status')\n",
    "plt.xlabel('Loan Amount vs Issue Year')"
   ]
  },
  {
   "cell_type": "markdown",
   "id": "f46ade90",
   "metadata": {},
   "source": [
    "#### Loan Amount vs Grade"
   ]
  },
  {
   "cell_type": "code",
   "execution_count": 316,
   "id": "4f4aa394",
   "metadata": {},
   "outputs": [
    {
     "data": {
      "image/png": "[encoded data removed]",
      "text/plain": [
       "<Figure size 720x720 with 1 Axes>"
      ]
     },
     "metadata": {
      "needs_background": "light"
     },
     "output_type": "display_data"
    }
   ],
   "source": [
    "plt.figure(figsize=(10,10))\n",
    "sns.barplot(data =lending_club_CS,x='loan_amnt', y='grade', hue ='loan_status',palette=\"pastel\")\n",
    "plt.xlabel('Loan Amount vs Grade')\n",
    "plt.show()"
   ]
  },
  {
   "cell_type": "markdown",
   "id": "455f8e78",
   "metadata": {},
   "source": [
    "#### Grade vs Interest Rate"
   ]
  },
  {
   "cell_type": "code",
   "execution_count": 319,
   "id": "88e0f444",
   "metadata": {},
   "outputs": [
    {
     "data": {
      "image/png": "[encoded data removed]",
      "text/plain": [
       "<Figure size 720x720 with 1 Axes>"
      ]
     },
     "metadata": {
      "needs_background": "light"
     },
     "output_type": "display_data"
    }
   ],
   "source": [
    "plt.figure(figsize=(10,10))\n",
    "sns.barplot(data =lending_club_CS,x='int_rate', y='grade', hue ='loan_status',palette=\"pastel\")\n",
    "\n",
    "\n",
    "plt.show()"
   ]
  },
  {
   "cell_type": "markdown",
   "id": "b79d7f16",
   "metadata": {},
   "source": [
    "#### Term vs Loan Amount"
   ]
  },
  {
   "cell_type": "code",
   "execution_count": 325,
   "id": "3d987d84",
   "metadata": {},
   "outputs": [
    {
     "data": {
      "text/plain": [
       "Text(0.5, 20.80000000000002, 'term vs loan_amnt')"
      ]
     },
     "execution_count": 325,
     "metadata": {},
     "output_type": "execute_result"
    },
    {
     "data": {
      "image/png": "[encoded data removed]",
      "text/plain": [
       "<Figure size 456.375x360 with 1 Axes>"
      ]
     },
     "metadata": {
      "needs_background": "light"
     },
     "output_type": "display_data"
    }
   ],
   "source": [
    "sns.catplot(x = 'term', y = 'loan_amnt', data = lending_club_CS,hue = 'loan_status', kind = 'bar')\n",
    "plt.xlabel('term vs loan_amnt')"
   ]
  },
  {
   "cell_type": "markdown",
   "id": "80bc22f1",
   "metadata": {},
   "source": [
    "## Observations on Complete Analysis "
   ]
  },
  {
   "cell_type": "markdown",
   "id": "9f34785b",
   "metadata": {},
   "source": [
    "#### The analysis with respect to the defaulters or charged off loans. Chances of defaulting is more when:\n",
    "1.\tThe applicants home ownership is ‘MORTGAGE’ and their income range fall between 60-70k\n",
    "2.\tThe applicants with high annual income tend to apply for loan with purpose as ‘home improvement’ , ‘house’ , ‘renewable energy’ , ‘small business’ also the defaulters are mostly found to be from ‘home improvement’ , ‘house’ , ‘small business’.\n",
    "3.\tApplicants whose annual income is between 112k-140k and  take up the loan amount ranging between 17.5k – 20k tend to default more.\n",
    "4.\tApplicants of annual income range between 70k – 80k and take up loan at an interest rate of 21-24% tend to default more.\n",
    "5.\tApplicants applying for loan amount between 25k-30k and 30k-35k and interest rate charged around 17.5% tend to default more.\n",
    "6.\tApplicants who apply for loan amount of around 14k for the purpose of small business or debt consolidation tend to default more.\n",
    "7.\tApplicants who apply for loan amount of around 14k and stay on Mortgage tend to default more.\n",
    "8.\tApplicants mostly defaulted when they applied for loan in the month of December during year ending and mostly in 2011 for loan amount of around 12k – 14k\n",
    "9.\tApplicants who defaulted mostly fall in Grade G,F category and the loan amount taken is 15k-20k\n",
    "10.\tApplicants with Grade G,F when charged with interest rate of around 20% tend to default more.\n",
    "\n"
   ]
  }
 ],
 "metadata": {
  "kernelspec": {
   "display_name": "Python 3 (ipykernel)",
   "language": "python",
   "name": "python3"
  },
  "language_info": {
   "codemirror_mode": {
    "name": "ipython",
    "version": 3
   },
   "file_extension": ".py",
   "mimetype": "text/x-python",
   "name": "python",
   "nbconvert_exporter": "python",
   "pygments_lexer": "ipython3",
   "version": "3.9.7"
  }
 },
 "nbformat": 4,
 "nbformat_minor": 5
}
